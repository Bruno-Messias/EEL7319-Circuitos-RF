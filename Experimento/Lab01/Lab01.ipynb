{
 "cells": [
  {
   "cell_type": "markdown",
   "metadata": {},
   "source": [
    "Foi utilizado durante o experimento o software Qucs com o apoio da linguagem Python para análise de dados. \n"
   ]
  },
  {
   "cell_type": "code",
   "execution_count": 153,
   "metadata": {},
   "outputs": [],
   "source": [
    "#Importando bibliotecas para análise de dados\n",
    "import numpy as np\n",
    "import pandas as pd\n",
    "import matplotlib.pyplot as plt\n",
    "%matplotlib inline"
   ]
  },
  {
   "cell_type": "markdown",
   "metadata": {},
   "source": [
    "## Questão 2\n",
    "Importação dos dados e processamento sobre a curva referente ao modelo do capacitor de 4.7 pF:"
   ]
  },
  {
   "cell_type": "code",
   "execution_count": 154,
   "metadata": {},
   "outputs": [
    {
     "data": {
      "text/html": [
       "<div>\n",
       "<style scoped>\n",
       "    .dataframe tbody tr th:only-of-type {\n",
       "        vertical-align: middle;\n",
       "    }\n",
       "\n",
       "    .dataframe tbody tr th {\n",
       "        vertical-align: top;\n",
       "    }\n",
       "\n",
       "    .dataframe thead th {\n",
       "        text-align: right;\n",
       "    }\n",
       "</style>\n",
       "<table border=\"1\" class=\"dataframe\">\n",
       "  <thead>\n",
       "    <tr style=\"text-align: right;\">\n",
       "      <th></th>\n",
       "      <th>acfrequency</th>\n",
       "      <th>Pin</th>\n",
       "    </tr>\n",
       "  </thead>\n",
       "  <tbody>\n",
       "    <tr>\n",
       "      <th>0</th>\n",
       "      <td>1000000.0</td>\n",
       "      <td>0.00003</td>\n",
       "    </tr>\n",
       "    <tr>\n",
       "      <th>1</th>\n",
       "      <td>1002310.0</td>\n",
       "      <td>0.00003</td>\n",
       "    </tr>\n",
       "    <tr>\n",
       "      <th>2</th>\n",
       "      <td>1004620.0</td>\n",
       "      <td>0.00003</td>\n",
       "    </tr>\n",
       "    <tr>\n",
       "      <th>3</th>\n",
       "      <td>1006930.0</td>\n",
       "      <td>0.00003</td>\n",
       "    </tr>\n",
       "    <tr>\n",
       "      <th>4</th>\n",
       "      <td>1009250.0</td>\n",
       "      <td>0.00003</td>\n",
       "    </tr>\n",
       "  </tbody>\n",
       "</table>\n",
       "</div>"
      ],
      "text/plain": [
       "   acfrequency      Pin\n",
       "0    1000000.0  0.00003\n",
       "1    1002310.0  0.00003\n",
       "2    1004620.0  0.00003\n",
       "3    1006930.0  0.00003\n",
       "4    1009250.0  0.00003"
      ]
     },
     "execution_count": 154,
     "metadata": {},
     "output_type": "execute_result"
    }
   ],
   "source": [
    "df = pd.read_csv('dados/Grafico Potência.csv',sep=';')\n",
    "#Organizando Dados\n",
    "df1 = df[['r Pin']]\n",
    "df2 = df[['i Pin']]\n",
    "xx = df1.to_numpy()\n",
    "yy = df2.to_numpy()\n",
    "df['Pin'] = np.sqrt((xx**2)+(yy**2))\n",
    "#Analisando forma de onda:\n",
    "df = df[['acfrequency','Pin']]\n",
    "#Visualização da organização de dados\n",
    "df.head()"
   ]
  },
  {
   "cell_type": "markdown",
   "metadata": {},
   "source": [
    "Análise gráfica da potência transferida no modelo pela frequência:"
   ]
  },
  {
   "cell_type": "code",
   "execution_count": 155,
   "metadata": {},
   "outputs": [
    {
     "data": {
      "text/plain": [
       "Text(0.5, 1.0, 'Potência no Modelo')"
      ]
     },
     "execution_count": 155,
     "metadata": {},
     "output_type": "execute_result"
    },
    {
     "data": {
      "image/png": "[encoded data removed]",
      "text/plain": [
       "<Figure size 432x288 with 1 Axes>"
      ]
     },
     "metadata": {
      "needs_background": "light"
     },
     "output_type": "display_data"
    }
   ],
   "source": [
    "dfx = df[['acfrequency']]\n",
    "dfy = df[['Pin']]\n",
    "freq = dfx.to_numpy()\n",
    "pot = dfy.to_numpy()\n",
    "\n",
    "fig = plt.figure()\n",
    "ax = fig.add_subplot(1, 1, 1)\n",
    "ax.grid(True)\n",
    "ax.plot(freq,pot)\n",
    "ax.set_xlabel('Frequência')\n",
    "ax.set_ylabel('Potência')\n",
    "ax.set_title('Potência no Modelo')"
   ]
  },
  {
   "cell_type": "markdown",
   "metadata": {},
   "source": [
    "Foi determinado a frequencia de auto-ressonância a partir da frequência onde possui a maior potência transferida.\n",
    "podemos observar que foi encontrado em Fr = 4.385310 GHz, que condiz com o teórico calculado no Pré lab de 4.39GHz."
   ]
  },
  {
   "cell_type": "code",
   "execution_count": 156,
   "metadata": {},
   "outputs": [
    {
     "data": {
      "text/plain": [
       "acfrequency    4.385310e+09\n",
       "Pin            2.694236e+00\n",
       "Name: 3642, dtype: float64"
      ]
     },
     "execution_count": 156,
     "metadata": {},
     "output_type": "execute_result"
    }
   ],
   "source": [
    "sort = df.sort_values(by = 'Pin',ascending=False)\n",
    "sortf = sort.iloc[0]\n",
    "#Extraindo fr\n",
    "fr = float(sortf[['acfrequency']].to_numpy())\n",
    "#Extraindo a potencia de relação\n",
    "prel = float(sortf[['Pin']].to_numpy())\n",
    "sort = sort[['acfrequency','Pin']]\n",
    "sort.iloc[0]"
   ]
  },
  {
   "cell_type": "markdown",
   "metadata": {},
   "source": [
    "Como segundo métdo vamos utilizar a análise das impedância, para validar o valor encontrado anteriormente e determinandr o fator Q e a tangente de perdas:"
   ]
  },
  {
   "cell_type": "code",
   "execution_count": 157,
   "metadata": {},
   "outputs": [
    {
     "data": {
      "text/html": [
       "<div>\n",
       "<style scoped>\n",
       "    .dataframe tbody tr th:only-of-type {\n",
       "        vertical-align: middle;\n",
       "    }\n",
       "\n",
       "    .dataframe tbody tr th {\n",
       "        vertical-align: top;\n",
       "    }\n",
       "\n",
       "    .dataframe thead th {\n",
       "        text-align: right;\n",
       "    }\n",
       "</style>\n",
       "<table border=\"1\" class=\"dataframe\">\n",
       "  <thead>\n",
       "    <tr style=\"text-align: right;\">\n",
       "      <th></th>\n",
       "      <th>acfrequency</th>\n",
       "      <th>r Zin</th>\n",
       "      <th>i Zin</th>\n",
       "    </tr>\n",
       "  </thead>\n",
       "  <tbody>\n",
       "    <tr>\n",
       "      <th>0</th>\n",
       "      <td>1.000000e+09</td>\n",
       "      <td>0.3711</td>\n",
       "      <td>-32.1035</td>\n",
       "    </tr>\n",
       "    <tr>\n",
       "      <th>1</th>\n",
       "      <td>1.002310e+09</td>\n",
       "      <td>0.3711</td>\n",
       "      <td>-32.0215</td>\n",
       "    </tr>\n",
       "    <tr>\n",
       "      <th>2</th>\n",
       "      <td>1.004620e+09</td>\n",
       "      <td>0.3711</td>\n",
       "      <td>-31.9398</td>\n",
       "    </tr>\n",
       "    <tr>\n",
       "      <th>3</th>\n",
       "      <td>1.006930e+09</td>\n",
       "      <td>0.3711</td>\n",
       "      <td>-31.8582</td>\n",
       "    </tr>\n",
       "    <tr>\n",
       "      <th>4</th>\n",
       "      <td>1.009250e+09</td>\n",
       "      <td>0.3711</td>\n",
       "      <td>-31.7767</td>\n",
       "    </tr>\n",
       "  </tbody>\n",
       "</table>\n",
       "</div>"
      ],
      "text/plain": [
       "    acfrequency   r Zin    i Zin\n",
       "0  1.000000e+09  0.3711 -32.1035\n",
       "1  1.002310e+09  0.3711 -32.0215\n",
       "2  1.004620e+09  0.3711 -31.9398\n",
       "3  1.006930e+09  0.3711 -31.8582\n",
       "4  1.009250e+09  0.3711 -31.7767"
      ]
     },
     "execution_count": 157,
     "metadata": {},
     "output_type": "execute_result"
    }
   ],
   "source": [
    "data = pd.read_csv('dados/zmodelo.csv',sep=';')\n",
    "#Visualização da organização de dados\n",
    "data.head()"
   ]
  },
  {
   "cell_type": "markdown",
   "metadata": {},
   "source": [
    "Análise Gráfica da impedância:"
   ]
  },
  {
   "cell_type": "code",
   "execution_count": 158,
   "metadata": {},
   "outputs": [
    {
     "data": {
      "text/plain": [
       "<Figure size 432x288 with 0 Axes>"
      ]
     },
     "metadata": {},
     "output_type": "display_data"
    },
    {
     "data": {
      "image/png": "[encoded data removed]",
      "text/plain": [
       "<Figure size 432x288 with 2 Axes>"
      ]
     },
     "metadata": {
      "needs_background": "light"
     },
     "output_type": "display_data"
    }
   ],
   "source": [
    "freq1 = data[['acfrequency']]\n",
    "yr = data[['r Zin']]\n",
    "yi= data[['i Zin']]\n",
    "freq = freq1.to_numpy()\n",
    "real = yr.to_numpy()\n",
    "imag = yi.to_numpy()\n",
    "\n",
    "fig = plt.figure()\n",
    "fig, ax1 = plt.subplots()\n",
    "ax.grid(True)\n",
    "\n",
    "color = 'tab:red'\n",
    "ax1.set_xlabel('Frequência')\n",
    "ax1.set_ylabel('real(Z)', color=color)\n",
    "ax1.plot(freq, real, color=color)\n",
    "ax1.tick_params(axis='y', labelcolor=color)\n",
    "\n",
    "ax2 = ax1.twinx()  \n",
    "\n",
    "color = 'tab:blue'\n",
    "ax2.set_ylabel('imag(Z)', color=color) \n",
    "ax2.plot(freq, imag, color=color)\n",
    "ax2.tick_params(axis='y', labelcolor=color)\n",
    "ax1.grid(True)\n",
    "fig.tight_layout() \n",
    "plt.show()"
   ]
  },
  {
   "cell_type": "markdown",
   "metadata": {},
   "source": [
    "A seguir utilizaremos a seguinte equação para determinar o fator de qualidade(Q)\n",
    "$$  Q =  \\frac{imag \\big\\{Z\\big\\} }{ real \\big\\{Z\\big\\} } $$"
   ]
  },
  {
   "cell_type": "code",
   "execution_count": 159,
   "metadata": {},
   "outputs": [
    {
     "data": {
      "text/plain": [
       "Text(0.5, 1.0, 'Fator de Qualiade')"
      ]
     },
     "execution_count": 159,
     "metadata": {},
     "output_type": "execute_result"
    },
    {
     "data": {
      "image/png": "[encoded data removed]",
      "text/plain": [
       "<Figure size 432x288 with 1 Axes>"
      ]
     },
     "metadata": {
      "needs_background": "light"
     },
     "output_type": "display_data"
    }
   ],
   "source": [
    "q = abs(imag)/abs(real)\n",
    "\n",
    "fig = plt.figure()\n",
    "ax = fig.add_subplot(1, 1, 1)\n",
    "ax.grid(True)\n",
    "ax.plot(freq,q)\n",
    "ax.set_xlabel('Frequência')\n",
    "ax.set_ylabel('Q')\n",
    "ax.set_title('Fator de Qualiade')"
   ]
  },
  {
   "cell_type": "markdown",
   "metadata": {},
   "source": [
    "Encontrando a frequência de auto-ressonância com mais precisão, comprovando que o valor de fr encontrado pela outra equação é válido"
   ]
  },
  {
   "cell_type": "code",
   "execution_count": 160,
   "metadata": {},
   "outputs": [
    {
     "data": {
      "text/plain": [
       "acfrequency    4.385310e+09\n",
       "Q              1.840808e-02\n",
       "Name: 642, dtype: float64"
      ]
     },
     "execution_count": 160,
     "metadata": {},
     "output_type": "execute_result"
    }
   ],
   "source": [
    "data['Q'] = abs(imag)/abs(real)\n",
    "sortdata = data.sort_values(by = 'Q',ascending=True)\n",
    "sortdata =  sortdata[['acfrequency','Q']]\n",
    "sortf1 = sortdata.iloc[0]\n",
    "#Extraindo Q\n",
    "Qinit = float(sortf1[['Q']].to_numpy())\n",
    "sortdata.iloc[0]"
   ]
  },
  {
   "cell_type": "markdown",
   "metadata": {},
   "source": [
    "E a seguir sua tangente de perdas:"
   ]
  },
  {
   "cell_type": "code",
   "execution_count": 161,
   "metadata": {},
   "outputs": [
    {
     "data": {
      "text/plain": [
       "Text(0.5, 1.0, 'Tangente de perdas')"
      ]
     },
     "execution_count": 161,
     "metadata": {},
     "output_type": "execute_result"
    },
    {
     "data": {
      "image/png": "[encoded data removed]",
      "text/plain": [
       "<Figure size 432x288 with 1 Axes>"
      ]
     },
     "metadata": {
      "needs_background": "light"
     },
     "output_type": "display_data"
    }
   ],
   "source": [
    "tang = 1/q\n",
    "\n",
    "fig = plt.figure()\n",
    "ax = fig.add_subplot(1, 1, 1)\n",
    "ax.grid(True)\n",
    "ax.plot(freq,tang)\n",
    "ax.set_xlabel('Frequência')\n",
    "ax.set_ylabel('Tangente')\n",
    "ax.set_title('Tangente de perdas')"
   ]
  },
  {
   "cell_type": "markdown",
   "metadata": {},
   "source": [
    "## Questão 3\n",
    "Na terceira parte do experimento vamos analizar o efeito da tolerância pela simulção Monte Carlo, primeiramente a importação sobre os dados da curva obtido desta simulação:"
   ]
  },
  {
   "cell_type": "code",
   "execution_count": 162,
   "metadata": {
    "scrolled": true
   },
   "outputs": [
    {
     "data": {
      "text/html": [
       "<div>\n",
       "<style scoped>\n",
       "    .dataframe tbody tr th:only-of-type {\n",
       "        vertical-align: middle;\n",
       "    }\n",
       "\n",
       "    .dataframe tbody tr th {\n",
       "        vertical-align: top;\n",
       "    }\n",
       "\n",
       "    .dataframe thead th {\n",
       "        text-align: right;\n",
       "    }\n",
       "</style>\n",
       "<table border=\"1\" class=\"dataframe\">\n",
       "  <thead>\n",
       "    <tr style=\"text-align: right;\">\n",
       "      <th></th>\n",
       "      <th>acfrequency</th>\n",
       "      <th>Pin</th>\n",
       "    </tr>\n",
       "  </thead>\n",
       "  <tbody>\n",
       "    <tr>\n",
       "      <th>0</th>\n",
       "      <td>1000000.0</td>\n",
       "      <td>0.00003</td>\n",
       "    </tr>\n",
       "    <tr>\n",
       "      <th>1</th>\n",
       "      <td>1002310.0</td>\n",
       "      <td>0.00003</td>\n",
       "    </tr>\n",
       "    <tr>\n",
       "      <th>2</th>\n",
       "      <td>1004620.0</td>\n",
       "      <td>0.00003</td>\n",
       "    </tr>\n",
       "    <tr>\n",
       "      <th>3</th>\n",
       "      <td>1006930.0</td>\n",
       "      <td>0.00003</td>\n",
       "    </tr>\n",
       "    <tr>\n",
       "      <th>4</th>\n",
       "      <td>1009250.0</td>\n",
       "      <td>0.00003</td>\n",
       "    </tr>\n",
       "  </tbody>\n",
       "</table>\n",
       "</div>"
      ],
      "text/plain": [
       "   acfrequency      Pin\n",
       "0    1000000.0  0.00003\n",
       "1    1002310.0  0.00003\n",
       "2    1004620.0  0.00003\n",
       "3    1006930.0  0.00003\n",
       "4    1009250.0  0.00003"
      ]
     },
     "execution_count": 162,
     "metadata": {},
     "output_type": "execute_result"
    }
   ],
   "source": [
    "#Importando dados da curva:\n",
    "dft = pd.read_csv('dados/tolerancia.csv',sep=';')\n",
    "df1 = dft[['r Pin']]\n",
    "df2 = dft[['i Pin']]\n",
    "xx = df1.to_numpy()\n",
    "yy = df2.to_numpy()\n",
    "dft['Pin'] = np.sqrt((xx**2)+(yy**2))\n",
    "dft = dft[['acfrequency','Pin']]\n",
    "dft.head()"
   ]
  },
  {
   "cell_type": "markdown",
   "metadata": {},
   "source": [
    "Análise gráfica gerada pelos dados obtidos:"
   ]
  },
  {
   "cell_type": "code",
   "execution_count": 163,
   "metadata": {},
   "outputs": [
    {
     "data": {
      "text/plain": [
       "Text(0.5, 1.0, 'Potência no Modelo')"
      ]
     },
     "execution_count": 163,
     "metadata": {},
     "output_type": "execute_result"
    },
    {
     "data": {
      "image/png": "[encoded data removed]",
      "text/plain": [
       "<Figure size 432x288 with 1 Axes>"
      ]
     },
     "metadata": {
      "needs_background": "light"
     },
     "output_type": "display_data"
    }
   ],
   "source": [
    "dfx = dft[['acfrequency']]\n",
    "dfy = dft[['Pin']]\n",
    "freq = dfx.to_numpy()\n",
    "pot = dfy.to_numpy()\n",
    "\n",
    "fig = plt.figure()\n",
    "ax = fig.add_subplot(1, 1, 1)\n",
    "ax.plot(freq,pot)\n",
    "ax.grid(True)\n",
    "ax.set_xlabel('Frequência')\n",
    "ax.set_ylabel('Potência')\n",
    "ax.set_title('Potência no Modelo')"
   ]
  },
  {
   "cell_type": "markdown",
   "metadata": {},
   "source": [
    "Observamos a seguir que há uma pequena mudança na frequencia de auto-ressonãncia, para 4.42GHz:"
   ]
  },
  {
   "cell_type": "code",
   "execution_count": 164,
   "metadata": {
    "scrolled": true
   },
   "outputs": [
    {
     "data": {
      "text/plain": [
       "acfrequency    4.415700e+09\n",
       "Pin            2.694692e+00\n",
       "Name: 15648, dtype: float64"
      ]
     },
     "execution_count": 164,
     "metadata": {},
     "output_type": "execute_result"
    }
   ],
   "source": [
    "sortt = dft.sort_values(by = 'Pin',ascending=False)\n",
    "sortf1 = sortt.iloc[0]\n",
    "sortt = sortt[['acfrequency','Pin']]\n",
    "pmax1 = float(sortf1[['Pin']].to_numpy())\n",
    "sortt.iloc[0]"
   ]
  },
  {
   "cell_type": "markdown",
   "metadata": {},
   "source": [
    "A seguir a análise pelo método das impedâncias:"
   ]
  },
  {
   "cell_type": "code",
   "execution_count": 165,
   "metadata": {},
   "outputs": [
    {
     "data": {
      "text/html": [
       "<div>\n",
       "<style scoped>\n",
       "    .dataframe tbody tr th:only-of-type {\n",
       "        vertical-align: middle;\n",
       "    }\n",
       "\n",
       "    .dataframe tbody tr th {\n",
       "        vertical-align: top;\n",
       "    }\n",
       "\n",
       "    .dataframe thead th {\n",
       "        text-align: right;\n",
       "    }\n",
       "</style>\n",
       "<table border=\"1\" class=\"dataframe\">\n",
       "  <thead>\n",
       "    <tr style=\"text-align: right;\">\n",
       "      <th></th>\n",
       "      <th>acfrequency</th>\n",
       "      <th>number</th>\n",
       "      <th>r Zin</th>\n",
       "      <th>i Zin</th>\n",
       "    </tr>\n",
       "  </thead>\n",
       "  <tbody>\n",
       "    <tr>\n",
       "      <th>0</th>\n",
       "      <td>1.000000e+09</td>\n",
       "      <td>1</td>\n",
       "      <td>0.3711</td>\n",
       "      <td>-32.1035</td>\n",
       "    </tr>\n",
       "    <tr>\n",
       "      <th>1</th>\n",
       "      <td>1.002310e+09</td>\n",
       "      <td>1</td>\n",
       "      <td>0.3711</td>\n",
       "      <td>-32.0215</td>\n",
       "    </tr>\n",
       "    <tr>\n",
       "      <th>2</th>\n",
       "      <td>1.004620e+09</td>\n",
       "      <td>1</td>\n",
       "      <td>0.3711</td>\n",
       "      <td>-31.9398</td>\n",
       "    </tr>\n",
       "    <tr>\n",
       "      <th>3</th>\n",
       "      <td>1.006930e+09</td>\n",
       "      <td>1</td>\n",
       "      <td>0.3711</td>\n",
       "      <td>-31.8582</td>\n",
       "    </tr>\n",
       "    <tr>\n",
       "      <th>4</th>\n",
       "      <td>1.009250e+09</td>\n",
       "      <td>1</td>\n",
       "      <td>0.3711</td>\n",
       "      <td>-31.7767</td>\n",
       "    </tr>\n",
       "  </tbody>\n",
       "</table>\n",
       "</div>"
      ],
      "text/plain": [
       "    acfrequency  number   r Zin    i Zin\n",
       "0  1.000000e+09       1  0.3711 -32.1035\n",
       "1  1.002310e+09       1  0.3711 -32.0215\n",
       "2  1.004620e+09       1  0.3711 -31.9398\n",
       "3  1.006930e+09       1  0.3711 -31.8582\n",
       "4  1.009250e+09       1  0.3711 -31.7767"
      ]
     },
     "execution_count": 165,
     "metadata": {},
     "output_type": "execute_result"
    }
   ],
   "source": [
    "data1 = pd.read_csv('dados/zmonte.csv',sep=';')\n",
    "#Visualização da organização de dados\n",
    "data1.head()\n"
   ]
  },
  {
   "cell_type": "code",
   "execution_count": 166,
   "metadata": {},
   "outputs": [
    {
     "data": {
      "text/plain": [
       "<Figure size 432x288 with 0 Axes>"
      ]
     },
     "metadata": {},
     "output_type": "display_data"
    },
    {
     "data": {
      "image/png": "[encoded data removed]",
      "text/plain": [
       "<Figure size 432x288 with 2 Axes>"
      ]
     },
     "metadata": {
      "needs_background": "light"
     },
     "output_type": "display_data"
    }
   ],
   "source": [
    "#Filtragem de pontos, para retirar dados discrepantes da simulção Monte Carlo\n",
    "data_pandas = data1.sort_values(by='i Zin')\n",
    "tamanho = len(data_pandas)\n",
    "primeiro_quatil = data_pandas.quantile(q=0.25, axis=0, numeric_only=True, interpolation='linear')\n",
    "primeiro_quatil = primeiro_quatil[['i Zin']].to_numpy()\n",
    "terceiro_quartil = data_pandas.quantile(q=0.75, axis=0, numeric_only=True, interpolation='linear')\n",
    "inicio = round(int(tamanho / primeiro_quatil))\n",
    "final = int(tamanho - abs(inicio))\n",
    "linha_inicio = data_pandas.loc[abs(inicio)]\n",
    "linha_inicio = linha_inicio[['i Zin']].to_numpy()\n",
    "linha_final = data_pandas.loc[final]\n",
    "linha_final = linha_final[['i Zin']].to_numpy()\n",
    "menor = (int(linha_final - linha_inicio) * 1.5) - inicio\n",
    "maior = (int(linha_final - linha_inicio) * 1.5) + final\n",
    "data_pandas[(data_pandas['i Zin'] < menor)]\n",
    "data_pandas[(data_pandas['i Zin'] > maior)]\n",
    "#Retirando dados para o gráfico\n",
    "freq1 = data_pandas[['acfrequency']]\n",
    "yr = data_pandas[['r Zin']]\n",
    "yi= data_pandas[['i Zin']]\n",
    "freq = freq1.to_numpy()\n",
    "real = yr.to_numpy()\n",
    "imag = yi.to_numpy()\n",
    "\n",
    "fig = plt.figure()\n",
    "fig, ax1 = plt.subplots()\n",
    "ax.grid(True)\n",
    "\n",
    "color = 'tab:red'\n",
    "ax1.set_xlabel('Frequência')\n",
    "ax1.set_ylabel('real(Z)', color=color)\n",
    "ax1.plot(freq, real, color=color)\n",
    "ax1.tick_params(axis='y', labelcolor=color)\n",
    "\n",
    "ax2 = ax1.twinx()  \n",
    "\n",
    "color = 'tab:blue'\n",
    "ax2.set_ylabel('imag(Z)', color=color) \n",
    "ax2.plot(freq, imag, color=color)\n",
    "ax2.tick_params(axis='y', labelcolor=color)\n",
    "ax1.grid(True)\n",
    "fig.tight_layout() \n",
    "plt.show()"
   ]
  },
  {
   "cell_type": "markdown",
   "metadata": {},
   "source": [
    "Determinando o gráfico do fator Q"
   ]
  },
  {
   "cell_type": "code",
   "execution_count": 167,
   "metadata": {},
   "outputs": [
    {
     "data": {
      "text/plain": [
       "Text(0.5, 1.0, 'Fator de Qualiade')"
      ]
     },
     "execution_count": 167,
     "metadata": {},
     "output_type": "execute_result"
    },
    {
     "data": {
      "image/png": "[encoded data removed]",
      "text/plain": [
       "<Figure size 432x288 with 1 Axes>"
      ]
     },
     "metadata": {
      "needs_background": "light"
     },
     "output_type": "display_data"
    }
   ],
   "source": [
    "q1 = abs(imag)/abs(real)\n",
    "\n",
    "fig = plt.figure()\n",
    "ax = fig.add_subplot(1, 1, 1)\n",
    "ax.grid(True)\n",
    "ax.plot(freq,q1)\n",
    "ax.set_xlabel('Frequência')\n",
    "ax.set_ylabel('Q')\n",
    "ax.set_title('Fator de Qualiade')"
   ]
  },
  {
   "cell_type": "markdown",
   "metadata": {},
   "source": [
    "Temos a frequêcia de de auto-ressonância em 4.48 GHz considerando essa abordagem: "
   ]
  },
  {
   "cell_type": "code",
   "execution_count": 168,
   "metadata": {},
   "outputs": [
    {
     "data": {
      "text/plain": [
       "acfrequency    4.477130e+09\n",
       "Q              1.035123e-03\n",
       "Name: 18669, dtype: float64"
      ]
     },
     "execution_count": 168,
     "metadata": {},
     "output_type": "execute_result"
    }
   ],
   "source": [
    "data_pandas['Q'] = q1\n",
    "sortdata1 = data_pandas.sort_values(by = 'Q',ascending=True)\n",
    "sortdata1 =  sortdata1[['acfrequency','Q']]\n",
    "sortdata1.iloc[0]"
   ]
  },
  {
   "cell_type": "markdown",
   "metadata": {},
   "source": [
    "E determinando a Tangente de Perdas:"
   ]
  },
  {
   "cell_type": "code",
   "execution_count": 169,
   "metadata": {},
   "outputs": [
    {
     "data": {
      "text/plain": [
       "Text(0.5, 1.0, 'Tangente de perdas')"
      ]
     },
     "execution_count": 169,
     "metadata": {},
     "output_type": "execute_result"
    },
    {
     "data": {
      "image/png": "[encoded data removed]",
      "text/plain": [
       "<Figure size 432x288 with 1 Axes>"
      ]
     },
     "metadata": {
      "needs_background": "light"
     },
     "output_type": "display_data"
    }
   ],
   "source": [
    "data2 = pd.read_csv('dados/tangente.csv',sep=';')\n",
    "df1 = data2[['r tang']]\n",
    "df2 = data2[['i tang']]\n",
    "xx = df1.to_numpy()\n",
    "yy = df2.to_numpy()\n",
    "data2['Tng'] = np.sqrt((xx**2)+(yy**2))\n",
    "data2 = data2[['acfrequency','Tng']]\n",
    "\n",
    "freq1 = data2[['acfrequency']]\n",
    "y = data2[['Tng']]\n",
    "freq = freq1.to_numpy()\n",
    "tg = y.to_numpy()\n",
    "\n",
    "\n",
    "fig = plt.figure()\n",
    "ax = fig.add_subplot(1, 1, 1)\n",
    "ax.grid(True)\n",
    "ax.plot(freq1,tg)\n",
    "ax.set_xlabel('Frequência')\n",
    "ax.set_ylabel('Tangente')\n",
    "ax.set_title('Tangente de perdas')"
   ]
  },
  {
   "cell_type": "markdown",
   "metadata": {},
   "source": [
    "Histograma da freqência de auto-ressonância, para o ponto de inflexão."
   ]
  },
  {
   "cell_type": "code",
   "execution_count": 170,
   "metadata": {},
   "outputs": [
    {
     "data": {
      "image/png": "[encoded data removed]",
      "text/plain": [
       "<Figure size 432x288 with 1 Axes>"
      ]
     },
     "metadata": {
      "needs_background": "light"
     },
     "output_type": "display_data"
    }
   ],
   "source": [
    "#Retirando dados com os limites obtidos\n",
    "mask1 = data_pandas['Q'] <= Qinit\n",
    "sortx = data_pandas.loc[mask1]\n",
    "freqs = sortx['acfrequency']\n",
    "freqx = sortx['acfrequency'].to_numpy()\n",
    "\n",
    "plt.hist(freqx, bins = 100)\n",
    "plt.xlabel('Frequência')\n",
    "plt.grid(True)"
   ]
  },
  {
   "cell_type": "markdown",
   "metadata": {},
   "source": [
    "Análise estatística dos dados nos histogramas:"
   ]
  },
  {
   "cell_type": "code",
   "execution_count": 171,
   "metadata": {},
   "outputs": [
    {
     "data": {
      "text/plain": [
       "count    7.000000e+00\n",
       "mean     4.372633e+09\n",
       "std      5.442284e+07\n",
       "min      4.315190e+09\n",
       "25%      4.335110e+09\n",
       "50%      4.365160e+09\n",
       "75%      4.390365e+09\n",
       "max      4.477130e+09\n",
       "Name: acfrequency, dtype: float64"
      ]
     },
     "execution_count": 171,
     "metadata": {},
     "output_type": "execute_result"
    }
   ],
   "source": [
    "freqs.describe()"
   ]
  },
  {
   "cell_type": "markdown",
   "metadata": {},
   "source": [
    "Observando seu dados estatísticos, vemos uma variação de 4.31GHz a 4.48GHz com um desvio padrão de 54.42 MHz em torno de sua mediana de 4.37GHz, que inclui a freqência determinada anteriormente, sem a inclusão da tolerância. Observamos que ao incluir a tolerância temos uma maior densidade de frequências perto de de 4.34GHz"
   ]
  },
  {
   "cell_type": "markdown",
   "metadata": {},
   "source": [
    "## Questão 4\n",
    "Nesta ultima parte do experimento analisaremos o filtro passa-baixa proposto anteriormente e os efitos de incluir a tolerância sobre ele, num primeiro momento sobre o filtro com o capacitor ideal:"
   ]
  },
  {
   "cell_type": "code",
   "execution_count": 172,
   "metadata": {
    "scrolled": true
   },
   "outputs": [
    {
     "data": {
      "text/html": [
       "<div>\n",
       "<style scoped>\n",
       "    .dataframe tbody tr th:only-of-type {\n",
       "        vertical-align: middle;\n",
       "    }\n",
       "\n",
       "    .dataframe tbody tr th {\n",
       "        vertical-align: top;\n",
       "    }\n",
       "\n",
       "    .dataframe thead th {\n",
       "        text-align: right;\n",
       "    }\n",
       "</style>\n",
       "<table border=\"1\" class=\"dataframe\">\n",
       "  <thead>\n",
       "    <tr style=\"text-align: right;\">\n",
       "      <th></th>\n",
       "      <th>acfrequency</th>\n",
       "      <th>Ganho</th>\n",
       "    </tr>\n",
       "  </thead>\n",
       "  <tbody>\n",
       "    <tr>\n",
       "      <th>0</th>\n",
       "      <td>1000000.0</td>\n",
       "      <td>1.0</td>\n",
       "    </tr>\n",
       "    <tr>\n",
       "      <th>1</th>\n",
       "      <td>1002310.0</td>\n",
       "      <td>1.0</td>\n",
       "    </tr>\n",
       "    <tr>\n",
       "      <th>2</th>\n",
       "      <td>1004620.0</td>\n",
       "      <td>1.0</td>\n",
       "    </tr>\n",
       "    <tr>\n",
       "      <th>3</th>\n",
       "      <td>1006930.0</td>\n",
       "      <td>1.0</td>\n",
       "    </tr>\n",
       "    <tr>\n",
       "      <th>4</th>\n",
       "      <td>1009250.0</td>\n",
       "      <td>1.0</td>\n",
       "    </tr>\n",
       "  </tbody>\n",
       "</table>\n",
       "</div>"
      ],
      "text/plain": [
       "   acfrequency  Ganho\n",
       "0    1000000.0    1.0\n",
       "1    1002310.0    1.0\n",
       "2    1004620.0    1.0\n",
       "3    1006930.0    1.0\n",
       "4    1009250.0    1.0"
      ]
     },
     "execution_count": 172,
     "metadata": {},
     "output_type": "execute_result"
    }
   ],
   "source": [
    "dfz = pd.read_csv('dados/filtrosemtol.csv',sep=';')\n",
    "df1 = dfz[['r Ganho']]\n",
    "df2 = dfz[['i Ganho']]\n",
    "xx = df1.to_numpy()\n",
    "yy = df2.to_numpy()\n",
    "dfz['Ganho'] = np.sqrt((xx**2)+(yy**2))\n",
    "dfz = dfz[['acfrequency','Ganho']]\n",
    "dfz.head()"
   ]
  },
  {
   "cell_type": "markdown",
   "metadata": {},
   "source": [
    "A seguir a resposta do filtro sem considerar a tolerância, para melhor visualização:"
   ]
  },
  {
   "cell_type": "code",
   "execution_count": 173,
   "metadata": {
    "scrolled": false
   },
   "outputs": [
    {
     "data": {
      "text/plain": [
       "Text(0.5, 1.0, 'Resposta do Filtro')"
      ]
     },
     "execution_count": 173,
     "metadata": {},
     "output_type": "execute_result"
    },
    {
     "data": {
      "image/png": "[encoded data removed]",
      "text/plain": [
       "<Figure size 432x288 with 1 Axes>"
      ]
     },
     "metadata": {
      "needs_background": "light"
     },
     "output_type": "display_data"
    }
   ],
   "source": [
    "dfx1 = dfz[['acfrequency']]\n",
    "dfy1 = dfz[['Ganho']]\n",
    "freq1 = dfx1.to_numpy()\n",
    "ganho = dfy1.to_numpy()\n",
    "\n",
    "fig = plt.figure()\n",
    "ax = fig.add_subplot(1, 1, 1)\n",
    "ax.plot(freq1,ganho)\n",
    "ax.grid(True)\n",
    "ax.set_xlabel('Frequência')\n",
    "ax.set_ylabel('Ganho')\n",
    "ax.set_title('Resposta do Filtro')\n"
   ]
  },
  {
   "cell_type": "markdown",
   "metadata": {},
   "source": [
    "A seguir a análise pelo métododas impedâncias, considerando o modelo do capacitor, sem o efeito das tolerâncias, descrito na questão 3:"
   ]
  },
  {
   "cell_type": "code",
   "execution_count": 174,
   "metadata": {},
   "outputs": [
    {
     "data": {
      "text/html": [
       "<div>\n",
       "<style scoped>\n",
       "    .dataframe tbody tr th:only-of-type {\n",
       "        vertical-align: middle;\n",
       "    }\n",
       "\n",
       "    .dataframe tbody tr th {\n",
       "        vertical-align: top;\n",
       "    }\n",
       "\n",
       "    .dataframe thead th {\n",
       "        text-align: right;\n",
       "    }\n",
       "</style>\n",
       "<table border=\"1\" class=\"dataframe\">\n",
       "  <thead>\n",
       "    <tr style=\"text-align: right;\">\n",
       "      <th></th>\n",
       "      <th>acfrequency</th>\n",
       "      <th>r Z</th>\n",
       "      <th>i Z</th>\n",
       "    </tr>\n",
       "  </thead>\n",
       "  <tbody>\n",
       "    <tr>\n",
       "      <th>0</th>\n",
       "      <td>1.000000e+09</td>\n",
       "      <td>16.0415</td>\n",
       "      <td>16.5478</td>\n",
       "    </tr>\n",
       "    <tr>\n",
       "      <th>1</th>\n",
       "      <td>1.002310e+09</td>\n",
       "      <td>15.9990</td>\n",
       "      <td>16.6271</td>\n",
       "    </tr>\n",
       "    <tr>\n",
       "      <th>2</th>\n",
       "      <td>1.004620e+09</td>\n",
       "      <td>15.9564</td>\n",
       "      <td>16.7067</td>\n",
       "    </tr>\n",
       "    <tr>\n",
       "      <th>3</th>\n",
       "      <td>1.006930e+09</td>\n",
       "      <td>15.9138</td>\n",
       "      <td>16.7866</td>\n",
       "    </tr>\n",
       "    <tr>\n",
       "      <th>4</th>\n",
       "      <td>1.009250e+09</td>\n",
       "      <td>15.8713</td>\n",
       "      <td>16.8668</td>\n",
       "    </tr>\n",
       "  </tbody>\n",
       "</table>\n",
       "</div>"
      ],
      "text/plain": [
       "    acfrequency      r Z      i Z\n",
       "0  1.000000e+09  16.0415  16.5478\n",
       "1  1.002310e+09  15.9990  16.6271\n",
       "2  1.004620e+09  15.9564  16.7067\n",
       "3  1.006930e+09  15.9138  16.7866\n",
       "4  1.009250e+09  15.8713  16.8668"
      ]
     },
     "execution_count": 174,
     "metadata": {},
     "output_type": "execute_result"
    }
   ],
   "source": [
    "data2 = pd.read_csv('dados/filtromodelo.csv',sep=';')\n",
    "#Visualização da organização de dados\n",
    "data2.head()"
   ]
  },
  {
   "cell_type": "markdown",
   "metadata": {},
   "source": [
    "Análise Gráfica dos dados:"
   ]
  },
  {
   "cell_type": "code",
   "execution_count": 175,
   "metadata": {},
   "outputs": [
    {
     "data": {
      "text/plain": [
       "<Figure size 432x288 with 0 Axes>"
      ]
     },
     "metadata": {},
     "output_type": "display_data"
    },
    {
     "data": {
      "image/png": "[encoded data removed]",
      "text/plain": [
       "<Figure size 432x288 with 2 Axes>"
      ]
     },
     "metadata": {
      "needs_background": "light"
     },
     "output_type": "display_data"
    }
   ],
   "source": [
    "freq1 = data2[['acfrequency']]\n",
    "yr = data2[['r Z']]\n",
    "yi= data2[['i Z']]\n",
    "freq = freq1.to_numpy()\n",
    "real = yr.to_numpy()\n",
    "imag = yi.to_numpy()\n",
    "\n",
    "fig = plt.figure()\n",
    "fig, ax1 = plt.subplots()\n",
    "ax.grid(True)\n",
    "\n",
    "color = 'tab:red'\n",
    "ax1.set_xlabel('Frequência')\n",
    "ax1.set_ylabel('real(Z)', color=color)\n",
    "ax1.plot(freq, real, color=color)\n",
    "ax1.tick_params(axis='y', labelcolor=color)\n",
    "\n",
    "ax2 = ax1.twinx()  \n",
    "\n",
    "color = 'tab:blue'\n",
    "ax2.set_ylabel('imag(Z)', color=color) \n",
    "ax2.plot(freq, imag, color=color)\n",
    "ax2.tick_params(axis='y', labelcolor=color)\n",
    "ax1.grid(True)\n",
    "fig.tight_layout() \n",
    "plt.show()"
   ]
  },
  {
   "cell_type": "markdown",
   "metadata": {},
   "source": [
    "Determinando o fator Q:"
   ]
  },
  {
   "cell_type": "code",
   "execution_count": 176,
   "metadata": {},
   "outputs": [
    {
     "data": {
      "text/plain": [
       "Text(0.5, 1.0, 'Fator de Qualiade')"
      ]
     },
     "execution_count": 176,
     "metadata": {},
     "output_type": "execute_result"
    },
    {
     "data": {
      "image/png": "[encoded data removed]",
      "text/plain": [
       "<Figure size 432x288 with 1 Axes>"
      ]
     },
     "metadata": {
      "needs_background": "light"
     },
     "output_type": "display_data"
    }
   ],
   "source": [
    "q = abs(imag)/abs(real)\n",
    "\n",
    "fig = plt.figure()\n",
    "ax = fig.add_subplot(1, 1, 1)\n",
    "ax.grid(True)\n",
    "ax.plot(freq,q)\n",
    "ax.set_xlabel('Frequência')\n",
    "ax.set_ylabel('Q')\n",
    "ax.set_title('Fator de Qualiade')"
   ]
  },
  {
   "cell_type": "markdown",
   "metadata": {},
   "source": [
    "A seguir a determinação da frequência de auto-ressonância, de 4.52 GHz:"
   ]
  },
  {
   "cell_type": "code",
   "execution_count": 177,
   "metadata": {},
   "outputs": [
    {
     "data": {
      "text/plain": [
       "acfrequency    4.518560e+09\n",
       "Q              4.037613e+02\n",
       "Name: 655, dtype: float64"
      ]
     },
     "execution_count": 177,
     "metadata": {},
     "output_type": "execute_result"
    }
   ],
   "source": [
    "data2['Q'] = q\n",
    "sortdata = data2.sort_values(by = 'Q',ascending=False)\n",
    "sortdata =  sortdata[['acfrequency','Q']]\n",
    "sortf1 = sortdata.iloc[0]\n",
    "#Extraindo Q\n",
    "Qinit1 = float(sortf1[['Q']].to_numpy())\n",
    "sortdata.iloc[0]"
   ]
  },
  {
   "cell_type": "markdown",
   "metadata": {},
   "source": [
    "A seguir sua tangente de perdas:"
   ]
  },
  {
   "cell_type": "code",
   "execution_count": 178,
   "metadata": {},
   "outputs": [
    {
     "data": {
      "text/plain": [
       "Text(0.5, 1.0, 'Tangente de perdas')"
      ]
     },
     "execution_count": 178,
     "metadata": {},
     "output_type": "execute_result"
    },
    {
     "data": {
      "image/png": "[encoded data removed]",
      "text/plain": [
       "<Figure size 432x288 with 1 Axes>"
      ]
     },
     "metadata": {
      "needs_background": "light"
     },
     "output_type": "display_data"
    }
   ],
   "source": [
    "tang = 1/q\n",
    "\n",
    "fig = plt.figure()\n",
    "ax = fig.add_subplot(1, 1, 1)\n",
    "ax.grid(True)\n",
    "ax.plot(freq,tang)\n",
    "ax.set_xlabel('Frequência')\n",
    "ax.set_ylabel('Tangente')\n",
    "ax.set_title('Tangente de perdas')"
   ]
  },
  {
   "cell_type": "markdown",
   "metadata": {},
   "source": [
    "Vamos analizar o filtro utilizando o modelo real e considerando a tolerância no capacitor:"
   ]
  },
  {
   "cell_type": "code",
   "execution_count": 179,
   "metadata": {},
   "outputs": [
    {
     "data": {
      "text/html": [
       "<div>\n",
       "<style scoped>\n",
       "    .dataframe tbody tr th:only-of-type {\n",
       "        vertical-align: middle;\n",
       "    }\n",
       "\n",
       "    .dataframe tbody tr th {\n",
       "        vertical-align: top;\n",
       "    }\n",
       "\n",
       "    .dataframe thead th {\n",
       "        text-align: right;\n",
       "    }\n",
       "</style>\n",
       "<table border=\"1\" class=\"dataframe\">\n",
       "  <thead>\n",
       "    <tr style=\"text-align: right;\">\n",
       "      <th></th>\n",
       "      <th>acfrequency</th>\n",
       "      <th>number</th>\n",
       "      <th>r Z</th>\n",
       "      <th>i Z</th>\n",
       "    </tr>\n",
       "  </thead>\n",
       "  <tbody>\n",
       "    <tr>\n",
       "      <th>0</th>\n",
       "      <td>1.000000e+09</td>\n",
       "      <td>1</td>\n",
       "      <td>16.0415</td>\n",
       "      <td>16.5478</td>\n",
       "    </tr>\n",
       "    <tr>\n",
       "      <th>1</th>\n",
       "      <td>1.002310e+09</td>\n",
       "      <td>1</td>\n",
       "      <td>15.9990</td>\n",
       "      <td>16.6271</td>\n",
       "    </tr>\n",
       "    <tr>\n",
       "      <th>2</th>\n",
       "      <td>1.004620e+09</td>\n",
       "      <td>1</td>\n",
       "      <td>15.9564</td>\n",
       "      <td>16.7067</td>\n",
       "    </tr>\n",
       "    <tr>\n",
       "      <th>3</th>\n",
       "      <td>1.006930e+09</td>\n",
       "      <td>1</td>\n",
       "      <td>15.9138</td>\n",
       "      <td>16.7866</td>\n",
       "    </tr>\n",
       "    <tr>\n",
       "      <th>4</th>\n",
       "      <td>1.009250e+09</td>\n",
       "      <td>1</td>\n",
       "      <td>15.8713</td>\n",
       "      <td>16.8668</td>\n",
       "    </tr>\n",
       "  </tbody>\n",
       "</table>\n",
       "</div>"
      ],
      "text/plain": [
       "    acfrequency  number      r Z      i Z\n",
       "0  1.000000e+09       1  16.0415  16.5478\n",
       "1  1.002310e+09       1  15.9990  16.6271\n",
       "2  1.004620e+09       1  15.9564  16.7067\n",
       "3  1.006930e+09       1  15.9138  16.7866\n",
       "4  1.009250e+09       1  15.8713  16.8668"
      ]
     },
     "execution_count": 179,
     "metadata": {},
     "output_type": "execute_result"
    }
   ],
   "source": [
    "data3 = pd.read_csv('dados/zfiltro.csv',sep=';')\n",
    "#Visualização da organização de dados\n",
    "data3.head()\n"
   ]
  },
  {
   "cell_type": "markdown",
   "metadata": {},
   "source": [
    "Análise gráfica do filtro:"
   ]
  },
  {
   "cell_type": "code",
   "execution_count": 180,
   "metadata": {},
   "outputs": [
    {
     "data": {
      "text/plain": [
       "<Figure size 432x288 with 0 Axes>"
      ]
     },
     "metadata": {},
     "output_type": "display_data"
    },
    {
     "data": {
      "image/png": "[encoded data removed]",
      "text/plain": [
       "<Figure size 432x288 with 2 Axes>"
      ]
     },
     "metadata": {
      "needs_background": "light"
     },
     "output_type": "display_data"
    }
   ],
   "source": [
    "#Filtragem de pontos, para retirar dados discrepantes da simulção Monte Carlo\n",
    "data_pandas = data3.sort_values(by='i Z')\n",
    "tamanho = len(data_pandas)\n",
    "primeiro_quatil = data_pandas.quantile(q=0.25, axis=0, numeric_only=True, interpolation='linear')\n",
    "primeiro_quatil = primeiro_quatil[['i Z']].to_numpy()\n",
    "terceiro_quartil = data_pandas.quantile(q=0.75, axis=0, numeric_only=True, interpolation='linear')\n",
    "inicio = round(int(tamanho / primeiro_quatil))\n",
    "final = int(tamanho - abs(inicio))\n",
    "linha_inicio = data_pandas.loc[abs(inicio)]\n",
    "linha_inicio = linha_inicio[['i Z']].to_numpy()\n",
    "linha_final = data_pandas.loc[final]\n",
    "linha_final = linha_final[['i Z']].to_numpy()\n",
    "menor = (int(linha_final - linha_inicio) * 1.5) - inicio\n",
    "maior = (int(linha_final - linha_inicio) * 1.5) + final\n",
    "data_pandas[(data_pandas['i Z'] < menor)]\n",
    "data_pandas[(data_pandas['i Z'] > maior)]\n",
    "\n",
    "#Retirando dados para o gráfico\n",
    "\n",
    "freq1 = data_pandas[['acfrequency']]\n",
    "yr = data_pandas[['r Z']]\n",
    "yi= data_pandas[['i Z']]\n",
    "freq = freq1.to_numpy()\n",
    "real = yr.to_numpy()\n",
    "imag = yi.to_numpy()\n",
    "\n",
    "fig = plt.figure()\n",
    "fig, ax1 = plt.subplots()\n",
    "ax.grid(True)\n",
    "\n",
    "color = 'tab:red'\n",
    "ax1.set_xlabel('Frequência')\n",
    "ax1.set_ylabel('real(Z)', color=color)\n",
    "ax1.plot(freq, real, color=color)\n",
    "ax1.tick_params(axis='y', labelcolor=color)\n",
    "\n",
    "ax2 = ax1.twinx()  \n",
    "\n",
    "color = 'tab:blue'\n",
    "ax2.set_ylabel('imag(Z)', color=color) \n",
    "ax2.plot(freq, imag, color=color)\n",
    "ax2.tick_params(axis='y', labelcolor=color)\n",
    "ax1.grid(True)\n",
    "fig.tight_layout() \n",
    "plt.show()"
   ]
  },
  {
   "cell_type": "markdown",
   "metadata": {},
   "source": [
    "Determinado o Fator Q:"
   ]
  },
  {
   "cell_type": "code",
   "execution_count": 181,
   "metadata": {},
   "outputs": [
    {
     "data": {
      "text/plain": [
       "Text(0.5, 1.0, 'Fator de Qualiade')"
      ]
     },
     "execution_count": 181,
     "metadata": {},
     "output_type": "execute_result"
    },
    {
     "data": {
      "image/png": "[encoded data removed]",
      "text/plain": [
       "<Figure size 432x288 with 1 Axes>"
      ]
     },
     "metadata": {
      "needs_background": "light"
     },
     "output_type": "display_data"
    }
   ],
   "source": [
    "q = abs(imag)/abs(real)\n",
    "\n",
    "fig = plt.figure()\n",
    "ax = fig.add_subplot(1, 1, 1)\n",
    "ax.grid(True)\n",
    "ax.plot(freq,q)\n",
    "ax.set_xlabel('Frequência')\n",
    "ax.set_ylabel('Q')\n",
    "ax.set_title('Fator de Qualiade')"
   ]
  },
  {
   "cell_type": "markdown",
   "metadata": {},
   "source": [
    "A seguir a determinação de Fr, de 4.63GHz :"
   ]
  },
  {
   "cell_type": "code",
   "execution_count": 182,
   "metadata": {},
   "outputs": [
    {
     "data": {
      "text/plain": [
       "acfrequency    4.634470e+09\n",
       "Q              4.139452e+02\n",
       "Name: 34700, dtype: float64"
      ]
     },
     "execution_count": 182,
     "metadata": {},
     "output_type": "execute_result"
    }
   ],
   "source": [
    "data_pandas['Q'] = q\n",
    "sortdata = data_pandas.sort_values(by = 'Q',ascending=False)\n",
    "sortdata =  sortdata[['acfrequency','Q']]\n",
    "sortf1 = sortdata.iloc[0]\n",
    "#Extraindo Q\n",
    "Qmax1 = float(sortf1[['Q']].to_numpy())\n",
    "sortdata.iloc[0]"
   ]
  },
  {
   "cell_type": "markdown",
   "metadata": {},
   "source": [
    "A seguir sua tangente de perdas:"
   ]
  },
  {
   "cell_type": "code",
   "execution_count": 183,
   "metadata": {},
   "outputs": [
    {
     "data": {
      "text/plain": [
       "Text(0.5, 1.0, 'Tangente de perdas')"
      ]
     },
     "execution_count": 183,
     "metadata": {},
     "output_type": "execute_result"
    },
    {
     "data": {
      "image/png": "[encoded data removed]",
      "text/plain": [
       "<Figure size 432x288 with 1 Axes>"
      ]
     },
     "metadata": {
      "needs_background": "light"
     },
     "output_type": "display_data"
    }
   ],
   "source": [
    "tang = 1/q\n",
    "\n",
    "fig = plt.figure()\n",
    "ax = fig.add_subplot(1, 1, 1)\n",
    "ax.grid(True)\n",
    "ax.plot(freq,tang)\n",
    "ax.set_xlabel('Frequência')\n",
    "ax.set_ylabel('Tangente')\n",
    "ax.set_title('Tangente de perdas')"
   ]
  },
  {
   "cell_type": "markdown",
   "metadata": {},
   "source": [
    "\n",
    "\n",
    "Temos a seguir o histograma da frequência sobre estes dados, considerando a tolerança do capacitor:"
   ]
  },
  {
   "cell_type": "code",
   "execution_count": 184,
   "metadata": {},
   "outputs": [
    {
     "data": {
      "image/png": "[encoded data removed]",
      "text/plain": [
       "<Figure size 432x288 with 1 Axes>"
      ]
     },
     "metadata": {
      "needs_background": "light"
     },
     "output_type": "display_data"
    }
   ],
   "source": [
    "\n",
    "mask1 = data_pandas['Q'] <= Qinit1\n",
    "sortx = data_pandas.loc[~mask1]\n",
    "freqs = sortx['acfrequency']\n",
    "freqx = sortx['acfrequency'].to_numpy()\n",
    "\n",
    "plt.hist(freqx, bins = 100)\n",
    "plt.xlabel('Frequência')\n",
    "plt.grid(True)"
   ]
  },
  {
   "cell_type": "markdown",
   "metadata": {},
   "source": [
    "Análise estatística dos dados nos histogramas:"
   ]
  },
  {
   "cell_type": "code",
   "execution_count": 185,
   "metadata": {},
   "outputs": [
    {
     "data": {
      "text/plain": [
       "count    5.530000e+02\n",
       "mean     4.593390e+09\n",
       "std      8.378125e+07\n",
       "min      4.466840e+09\n",
       "25%      4.518560e+09\n",
       "50%      4.581420e+09\n",
       "75%      4.655860e+09\n",
       "max      4.797330e+09\n",
       "Name: acfrequency, dtype: float64"
      ]
     },
     "execution_count": 185,
     "metadata": {},
     "output_type": "execute_result"
    }
   ],
   "source": [
    "freqs.describe()"
   ]
  },
  {
   "cell_type": "markdown",
   "metadata": {},
   "source": [
    "Podemos observar uma varição de 4.46 GHz á 4.80GHz ao incluir a tolerância do capacitor, um desvio padrão d 83.87MHz em torno de sua media de 5.59 GHz, observamos que a maioria das frequências estão sobre o ponto de 4.52GHz que era a frequência de auto-ressonância determinada anteriormente sem incuir a tolerância."
   ]
  }
 ],
 "metadata": {
  "kernelspec": {
   "display_name": "Python 3",
   "language": "python",
   "name": "python3"
  },
  "language_info": {
   "codemirror_mode": {
    "name": "ipython",
    "version": 3
   },
   "file_extension": ".py",
   "mimetype": "text/x-python",
   "name": "python",
   "nbconvert_exporter": "python",
   "pygments_lexer": "ipython3",
   "version": "3.7.3"
  }
 },
 "nbformat": 4,
 "nbformat_minor": 2
}
