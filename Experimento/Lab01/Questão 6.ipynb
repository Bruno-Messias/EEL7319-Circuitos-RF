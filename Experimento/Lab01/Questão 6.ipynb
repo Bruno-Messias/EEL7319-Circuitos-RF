{
 "cells": [
  {
   "cell_type": "code",
   "execution_count": null,
   "metadata": {},
   "outputs": [],
   "source": [
    "Analisando a simulação considerando uma variação de temperatura de -55C°C a 125 estipulada como o intervalo de testes."
   ]
  },
  {
   "cell_type": "code",
   "execution_count": 3,
   "metadata": {},
   "outputs": [],
   "source": [
    "#Importando bibliotecas para análise de dados\n",
    "import numpy as np\n",
    "import pandas as pd\n",
    "import matplotlib.pyplot as plt\n",
    "%matplotlib inline"
   ]
  },
  {
   "cell_type": "code",
   "execution_count": 8,
   "metadata": {},
   "outputs": [
    {
     "data": {
      "text/html": [
       "<div>\n",
       "<style scoped>\n",
       "    .dataframe tbody tr th:only-of-type {\n",
       "        vertical-align: middle;\n",
       "    }\n",
       "\n",
       "    .dataframe tbody tr th {\n",
       "        vertical-align: top;\n",
       "    }\n",
       "\n",
       "    .dataframe thead th {\n",
       "        text-align: right;\n",
       "    }\n",
       "</style>\n",
       "<table border=\"1\" class=\"dataframe\">\n",
       "  <thead>\n",
       "    <tr style=\"text-align: right;\">\n",
       "      <th></th>\n",
       "      <th>acfrequency</th>\n",
       "      <th>Pin</th>\n",
       "    </tr>\n",
       "  </thead>\n",
       "  <tbody>\n",
       "    <tr>\n",
       "      <th>0</th>\n",
       "      <td>100000000.0</td>\n",
       "      <td>0.002955</td>\n",
       "    </tr>\n",
       "    <tr>\n",
       "      <th>1</th>\n",
       "      <td>119800000.0</td>\n",
       "      <td>0.003540</td>\n",
       "    </tr>\n",
       "    <tr>\n",
       "      <th>2</th>\n",
       "      <td>139600000.0</td>\n",
       "      <td>0.004127</td>\n",
       "    </tr>\n",
       "    <tr>\n",
       "      <th>3</th>\n",
       "      <td>159400000.0</td>\n",
       "      <td>0.004713</td>\n",
       "    </tr>\n",
       "    <tr>\n",
       "      <th>4</th>\n",
       "      <td>179200000.0</td>\n",
       "      <td>0.005301</td>\n",
       "    </tr>\n",
       "  </tbody>\n",
       "</table>\n",
       "</div>"
      ],
      "text/plain": [
       "   acfrequency       Pin\n",
       "0  100000000.0  0.002955\n",
       "1  119800000.0  0.003540\n",
       "2  139600000.0  0.004127\n",
       "3  159400000.0  0.004713\n",
       "4  179200000.0  0.005301"
      ]
     },
     "execution_count": 8,
     "metadata": {},
     "output_type": "execute_result"
    }
   ],
   "source": [
    "df = pd.read_csv('dados/temperatura.csv',sep=';')\n",
    "#Organizando Dados\n",
    "df1 = df[['r Pin']]\n",
    "df2 = df[['i Pin']]\n",
    "xx = df1.to_numpy()\n",
    "yy = df2.to_numpy()\n",
    "df['Pin'] = np.sqrt((xx**2)+(yy**2))\n",
    "#Analisando forma de onda:\n",
    "df = df[['acfrequency','Pin']]\n",
    "df.head()"
   ]
  },
  {
   "cell_type": "markdown",
   "metadata": {},
   "source": [
    "Análise gráfica da Potência transferida no modelo pela frequência, com a variação de temperatura:"
   ]
  },
  {
   "cell_type": "code",
   "execution_count": 9,
   "metadata": {},
   "outputs": [
    {
     "data": {
      "text/plain": [
       "Text(0.5, 1.0, 'Potência')"
      ]
     },
     "execution_count": 9,
     "metadata": {},
     "output_type": "execute_result"
    },
    {
     "data": {
      "image/png": "[encoded data removed]",
      "text/plain": [
       "<Figure size 432x288 with 1 Axes>"
      ]
     },
     "metadata": {
      "needs_background": "light"
     },
     "output_type": "display_data"
    }
   ],
   "source": [
    "dfx = df[['acfrequency']]\n",
    "dfy = df[['Pin']]\n",
    "freq = dfx.to_numpy()\n",
    "pot = dfy.to_numpy()\n",
    "\n",
    "fig = plt.figure()\n",
    "ax = fig.add_subplot(1, 1, 1)\n",
    "ax.grid(True)\n",
    "ax.plot(freq,pot)\n",
    "ax.set_xlabel('Frequência')\n",
    "ax.set_ylabel('Potência')\n",
    "ax.set_title('Potência')"
   ]
  },
  {
   "cell_type": "markdown",
   "metadata": {},
   "source": [
    "A temperatura foi varia de -55°C a 125°C, que são valores de testes fornecido pelos fabricantes, em 5 linhas diferentes.\n",
    "Podemos observar que a frequncia de auto-ressonância não varia pela temperatura, mantendo o mesmo valor encontrado anteriormente.\n"
   ]
  },
  {
   "cell_type": "code",
   "execution_count": 10,
   "metadata": {},
   "outputs": [
    {
     "data": {
      "text/plain": [
       "acfrequency    4.396600e+09\n",
       "Pin            1.334861e+01\n",
       "Name: 217, dtype: float64"
      ]
     },
     "execution_count": 10,
     "metadata": {},
     "output_type": "execute_result"
    }
   ],
   "source": [
    "sort = df.sort_values(by = 'Pin',ascending=False)\n",
    "sortf = sort.iloc[0]\n",
    "#extraindo fr\n",
    "fr = float(sortf[['acfrequency']].to_numpy())\n",
    "sort.iloc[0]"
   ]
  },
  {
   "cell_type": "markdown",
   "metadata": {},
   "source": [
    "Podemos observar com o aumento de temperatura diminui a potência transferida, isso se deve ao fato que os dielétricos COG, possuem uma variação de 0±30ppm/°C, eles são reconhecdos como  capacitores de “temperature-compensating”, por conta de sua baixa varição com a temperatura em comparação com outros dielétricos, por exemplo o XR7 varia por volta de ±15%"
   ]
  },
  {
   "cell_type": "code",
   "execution_count": null,
   "metadata": {},
   "outputs": [],
   "source": []
  }
 ],
 "metadata": {
  "kernelspec": {
   "display_name": "Python 3",
   "language": "python",
   "name": "python3"
  },
  "language_info": {
   "codemirror_mode": {
    "name": "ipython",
    "version": 3
   },
   "file_extension": ".py",
   "mimetype": "text/x-python",
   "name": "python",
   "nbconvert_exporter": "python",
   "pygments_lexer": "ipython3",
   "version": "3.7.3"
  }
 },
 "nbformat": 4,
 "nbformat_minor": 2
}
