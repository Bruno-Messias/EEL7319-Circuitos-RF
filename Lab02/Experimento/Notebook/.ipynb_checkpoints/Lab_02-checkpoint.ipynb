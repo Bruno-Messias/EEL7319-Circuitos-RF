{
 "cells": [
  {
   "cell_type": "markdown",
   "metadata": {},
   "source": [
    "# Análise do Fator de Qualidade "
   ]
  },
  {
   "cell_type": "markdown",
   "metadata": {},
   "source": [
    "Foi utilizado durante o experimento o software Qucs com o apoio da linguagem Python para análise de dados, utilizando de uma variação de capacitores para a plotagem do Fator Q."
   ]
  },
  {
   "cell_type": "code",
   "execution_count": 1,
   "metadata": {},
   "outputs": [],
   "source": [
    "#Importando bibliotecas para análise de dados\n",
    "import numpy as np\n",
    "import pandas as pd\n",
    "import matplotlib.pyplot as plt\n",
    "%matplotlib inline"
   ]
  },
  {
   "cell_type": "markdown",
   "metadata": {},
   "source": [
    "## Modelo SER"
   ]
  },
  {
   "cell_type": "markdown",
   "metadata": {},
   "source": [
    "Importação da primeira curva"
   ]
  },
  {
   "cell_type": "code",
   "execution_count": 15,
   "metadata": {},
   "outputs": [
    {
     "data": {
      "text/html": [
       "<div>\n",
       "<style scoped>\n",
       "    .dataframe tbody tr th:only-of-type {\n",
       "        vertical-align: middle;\n",
       "    }\n",
       "\n",
       "    .dataframe tbody tr th {\n",
       "        vertical-align: top;\n",
       "    }\n",
       "\n",
       "    .dataframe thead th {\n",
       "        text-align: right;\n",
       "    }\n",
       "</style>\n",
       "<table border=\"1\" class=\"dataframe\">\n",
       "  <thead>\n",
       "    <tr style=\"text-align: right;\">\n",
       "      <th></th>\n",
       "      <th>acfrequency</th>\n",
       "      <th>|Z|</th>\n",
       "    </tr>\n",
       "  </thead>\n",
       "  <tbody>\n",
       "    <tr>\n",
       "      <th>0</th>\n",
       "      <td>50000000.0</td>\n",
       "      <td>0.590565</td>\n",
       "    </tr>\n",
       "    <tr>\n",
       "      <th>1</th>\n",
       "      <td>50115300.0</td>\n",
       "      <td>0.590950</td>\n",
       "    </tr>\n",
       "    <tr>\n",
       "      <th>2</th>\n",
       "      <td>50230800.0</td>\n",
       "      <td>0.591338</td>\n",
       "    </tr>\n",
       "    <tr>\n",
       "      <th>3</th>\n",
       "      <td>50346600.0</td>\n",
       "      <td>0.591727</td>\n",
       "    </tr>\n",
       "    <tr>\n",
       "      <th>4</th>\n",
       "      <td>50462700.0</td>\n",
       "      <td>0.592118</td>\n",
       "    </tr>\n",
       "  </tbody>\n",
       "</table>\n",
       "</div>"
      ],
      "text/plain": [
       "   acfrequency       |Z|\n",
       "0   50000000.0  0.590565\n",
       "1   50115300.0  0.590950\n",
       "2   50230800.0  0.591338\n",
       "3   50346600.0  0.591727\n",
       "4   50462700.0  0.592118"
      ]
     },
     "execution_count": 15,
     "metadata": {},
     "output_type": "execute_result"
    }
   ],
   "source": [
    "df = pd.read_csv('dados/Z1_SER.csv',sep=';')\n",
    "#Organizando Dados\n",
    "df1 = df[['r Z']]\n",
    "df2 = df[['i Z']]\n",
    "xx = df1.to_numpy()\n",
    "yy = df2.to_numpy()\n",
    "df['|Z|'] = np.sqrt((xx**2)+(yy**2))\n",
    "#Analisando forma de onda:\n",
    "z1_ser = df[['acfrequency','|Z|']]\n",
    "#Visualização da organização de dados\n",
    "z1_ser.head()"
   ]
  },
  {
   "cell_type": "markdown",
   "metadata": {},
   "source": [
    "Análise Gráfica"
   ]
  },
  {
   "cell_type": "code",
   "execution_count": 16,
   "metadata": {},
   "outputs": [
    {
     "data": {
      "text/plain": [
       "Text(0.5, 1.0, 'Impedância no Modelo Ser')"
      ]
     },
     "execution_count": 16,
     "metadata": {},
     "output_type": "execute_result"
    },
    {
     "data": {
      "image/png": "[encoded data removed]",
      "text/plain": [
       "<Figure size 432x288 with 1 Axes>"
      ]
     },
     "metadata": {
      "needs_background": "light"
     },
     "output_type": "display_data"
    }
   ],
   "source": [
    "dfx = z1_ser[['acfrequency']]\n",
    "dfy = z1_ser[['|Z|']]\n",
    "freq = dfx.to_numpy()\n",
    "Z = dfy.to_numpy()\n",
    "\n",
    "fig = plt.figure()\n",
    "ax = fig.add_subplot(1, 1, 1)\n",
    "ax.grid(True)\n",
    "ax.plot(freq,Z)\n",
    "ax.set_xlabel('Frequência')\n",
    "ax.set_ylabel('|Z|')\n",
    "ax.set_title('Impedância no Modelo Ser')"
   ]
  },
  {
   "cell_type": "code",
   "execution_count": 17,
   "metadata": {},
   "outputs": [
    {
     "name": "stdout",
     "output_type": "stream",
     "text": [
      "acfrequency    4.977560e+09\n",
      "|Z|            1.951234e+03\n",
      "Name: 1998, dtype: float64\n"
     ]
    }
   ],
   "source": [
    "#Determinando máximo\n",
    "sort_ser1 = z1_ser.sort_values(by = '|Z|',ascending=False)\n",
    "sortf_ser1 = sort_ser1.iloc[0]\n",
    "maxz_ser1 = float(sortf_ser1[['|Z|']].to_numpy())\n",
    "\n",
    "#Retirando Fr\n",
    "fr_ser1 = float(sortf_ser1[['acfrequency']].to_numpy())\n",
    "print(sortf_ser1) #Imprimindo ponto de maximo\n",
    "\n",
    "#Definindo limites de banda delta f\n",
    "control_ser1 = maxz_ser1/2\n",
    "mask_ser1 = (z1_ser['|Z|'] < control_ser1)\n",
    "zfinal_ser1 = z1_ser.loc[~mask_ser1]\n",
    "\n",
    "#Retirando delta F\n",
    "sort1_ser1 = zfinal_ser1.sort_values(by = 'acfrequency',ascending=True)\n",
    "sort2_ser1 = zfinal_ser1.sort_values(by = 'acfrequency',ascending=False)\n",
    "sortf1_ser1 = sort1_ser1.iloc[0]\n",
    "sortf2_ser1 = sort2_ser1.iloc[0]\n",
    "minz1 = float(sortf1_ser1[['acfrequency']].to_numpy())\n",
    "maxz1 = float(sortf2_ser1[['acfrequency']].to_numpy())"
   ]
  },
  {
   "cell_type": "markdown",
   "metadata": {},
   "source": [
    "Definindo Q \n",
    "--equacao--"
   ]
  },
  {
   "cell_type": "code",
   "execution_count": 18,
   "metadata": {},
   "outputs": [
    {
     "data": {
      "text/plain": [
       "39.435588654729834"
      ]
     },
     "execution_count": 18,
     "metadata": {},
     "output_type": "execute_result"
    }
   ],
   "source": [
    "#Determinando Q\n",
    "delta = maxz1 - minz1\n",
    "Q_ser1 = fr_ser1/delta\n",
    "Q_ser1"
   ]
  },
  {
   "cell_type": "markdown",
   "metadata": {},
   "source": [
    "**Segunda Curva** + 20%"
   ]
  },
  {
   "cell_type": "code",
   "execution_count": 25,
   "metadata": {},
   "outputs": [
    {
     "name": "stdout",
     "output_type": "stream",
     "text": [
      "acfrequency    4.550040e+09\n",
      "|Z|            1.628626e+03\n",
      "Name: 1959, dtype: float64\n"
     ]
    },
    {
     "data": {
      "text/plain": [
       "36.188976377952756"
      ]
     },
     "execution_count": 25,
     "metadata": {},
     "output_type": "execute_result"
    }
   ],
   "source": [
    "df = pd.read_csv('dados/Z2_SER.csv',sep=';')\n",
    "\n",
    "#Organizando Dados\n",
    "df1 = df[['r Z']]\n",
    "df2 = df[['i Z']]\n",
    "xx = df1.to_numpy()\n",
    "yy = df2.to_numpy()\n",
    "df['|Z|'] = np.sqrt((xx**2)+(yy**2))\n",
    "\n",
    "#Analisando forma de onda:\n",
    "z1_ser = df[['acfrequency','|Z|']]\n",
    "\n",
    "#Determinando máximo\n",
    "sort_ser1 = z1_ser.sort_values(by = '|Z|',ascending=False)\n",
    "sortf_ser1 = sort_ser1.iloc[0]\n",
    "maxz_ser1 = float(sortf_ser1[['|Z|']].to_numpy())\n",
    "\n",
    "#Retirando Fr\n",
    "fr_ser2 = float(sortf_ser1[['acfrequency']].to_numpy())\n",
    "print(sortf_ser1) #Imprimindo ponto de maximo\n",
    "\n",
    "#Definindo limites de banda delta f\n",
    "control_ser1 = maxz_ser1/2\n",
    "mask_ser1 = (z1_ser['|Z|'] < control_ser1)\n",
    "zfinal_ser1 = z1_ser.loc[~mask_ser1]\n",
    "\n",
    "#Retirando delta F\n",
    "sort1_ser1 = zfinal_ser1.sort_values(by = 'acfrequency',ascending=True)\n",
    "sort2_ser1 = zfinal_ser1.sort_values(by = 'acfrequency',ascending=False)\n",
    "sortf1_ser1 = sort1_ser1.iloc[0]\n",
    "sortf2_ser1 = sort2_ser1.iloc[0]\n",
    "minz1 = float(sortf1_ser1[['acfrequency']].to_numpy())\n",
    "maxz1 = float(sortf2_ser1[['acfrequency']].to_numpy())\n",
    "\n",
    "#Determinando Q\n",
    "delta = maxz1 - minz1\n",
    "Q_ser2 = fr_ser2/delta\n",
    "Q_ser2"
   ]
  },
  {
   "cell_type": "markdown",
   "metadata": {},
   "source": [
    "**Terceira curva** +40%"
   ]
  },
  {
   "cell_type": "code",
   "execution_count": 26,
   "metadata": {},
   "outputs": [
    {
     "name": "stdout",
     "output_type": "stream",
     "text": [
      "acfrequency    4.207410e+09\n",
      "|Z|            1.396920e+03\n",
      "Name: 1925, dtype: float64\n"
     ]
    },
    {
     "data": {
      "text/plain": [
       "33.36830835117773"
      ]
     },
     "execution_count": 26,
     "metadata": {},
     "output_type": "execute_result"
    }
   ],
   "source": [
    "df = pd.read_csv('dados/Z3_SER.csv',sep=';')\n",
    "\n",
    "#Organizando Dados\n",
    "df1 = df[['r Z']]\n",
    "df2 = df[['i Z']]\n",
    "xx = df1.to_numpy()\n",
    "yy = df2.to_numpy()\n",
    "df['|Z|'] = np.sqrt((xx**2)+(yy**2))\n",
    "\n",
    "#Analisando forma de onda:\n",
    "z1_ser = df[['acfrequency','|Z|']]\n",
    "\n",
    "#Determinando máximo\n",
    "sort_ser1 = z1_ser.sort_values(by = '|Z|',ascending=False)\n",
    "sortf_ser1 = sort_ser1.iloc[0]\n",
    "maxz_ser1 = float(sortf_ser1[['|Z|']].to_numpy())\n",
    "\n",
    "#Retirando Fr\n",
    "fr_ser3 = float(sortf_ser1[['acfrequency']].to_numpy())\n",
    "print(sortf_ser1) #Imprimindo ponto de maximo\n",
    "\n",
    "#Definindo limites de banda delta f\n",
    "control_ser1 = maxz_ser1/2\n",
    "mask_ser1 = (z1_ser['|Z|'] < control_ser1)\n",
    "zfinal_ser1 = z1_ser.loc[~mask_ser1]\n",
    "\n",
    "#Retirando delta F\n",
    "sort1_ser1 = zfinal_ser1.sort_values(by = 'acfrequency',ascending=True)\n",
    "sort2_ser1 = zfinal_ser1.sort_values(by = 'acfrequency',ascending=False)\n",
    "sortf1_ser1 = sort1_ser1.iloc[0]\n",
    "sortf2_ser1 = sort2_ser1.iloc[0]\n",
    "minz1 = float(sortf1_ser1[['acfrequency']].to_numpy())\n",
    "maxz1 = float(sortf2_ser1[['acfrequency']].to_numpy())\n",
    "\n",
    "#Determinando Q\n",
    "delta = maxz1 - minz1\n",
    "Q_ser3 = fr_ser3/delta\n",
    "Q_ser3"
   ]
  },
  {
   "cell_type": "markdown",
   "metadata": {},
   "source": [
    "**Quarta Curva** +80%"
   ]
  },
  {
   "cell_type": "code",
   "execution_count": 27,
   "metadata": {},
   "outputs": [
    {
     "name": "stdout",
     "output_type": "stream",
     "text": [
      "acfrequency    3.715460e+09\n",
      "|Z|            1.086121e+03\n",
      "Name: 1871, dtype: float64\n"
     ]
    },
    {
     "data": {
      "text/plain": [
       "28.98400811295733"
      ]
     },
     "execution_count": 27,
     "metadata": {},
     "output_type": "execute_result"
    }
   ],
   "source": [
    "df = pd.read_csv('dados/Z4_SER.csv',sep=';')\n",
    "\n",
    "#Organizando Dados\n",
    "df1 = df[['r Z']]\n",
    "df2 = df[['i Z']]\n",
    "xx = df1.to_numpy()\n",
    "yy = df2.to_numpy()\n",
    "df['|Z|'] = np.sqrt((xx**2)+(yy**2))\n",
    "\n",
    "#Analisando forma de onda:\n",
    "z1_ser = df[['acfrequency','|Z|']]\n",
    "\n",
    "#Determinando máximo\n",
    "sort_ser1 = z1_ser.sort_values(by = '|Z|',ascending=False)\n",
    "sortf_ser1 = sort_ser1.iloc[0]\n",
    "maxz_ser1 = float(sortf_ser1[['|Z|']].to_numpy())\n",
    "\n",
    "#Retirando Fr\n",
    "fr_ser4 = float(sortf_ser1[['acfrequency']].to_numpy())\n",
    "print(sortf_ser1) #Imprimindo ponto de maximo\n",
    "\n",
    "#Definindo limites de banda delta f\n",
    "control_ser1 = maxz_ser1/2\n",
    "mask_ser1 = (z1_ser['|Z|'] < control_ser1)\n",
    "zfinal_ser1 = z1_ser.loc[~mask_ser1]\n",
    "\n",
    "#Retirando delta F\n",
    "sort1_ser1 = zfinal_ser1.sort_values(by = 'acfrequency',ascending=True)\n",
    "sort2_ser1 = zfinal_ser1.sort_values(by = 'acfrequency',ascending=False)\n",
    "sortf1_ser1 = sort1_ser1.iloc[0]\n",
    "sortf2_ser1 = sort2_ser1.iloc[0]\n",
    "minz1 = float(sortf1_ser1[['acfrequency']].to_numpy())\n",
    "maxz1 = float(sortf2_ser1[['acfrequency']].to_numpy())\n",
    "\n",
    "#Determinando Q\n",
    "delta = maxz1 - minz1\n",
    "Q_ser4 = fr_ser4/delta\n",
    "Q_ser4"
   ]
  },
  {
   "cell_type": "markdown",
   "metadata": {},
   "source": [
    "**Quinta Curva** +120%"
   ]
  },
  {
   "cell_type": "code",
   "execution_count": 28,
   "metadata": {},
   "outputs": [
    {
     "name": "stdout",
     "output_type": "stream",
     "text": [
      "acfrequency    3.357470e+09\n",
      "|Z|            8.905467e+02\n",
      "Name: 1827, dtype: float64\n"
     ]
    },
    {
     "data": {
      "text/plain": [
       "25.514628771183222"
      ]
     },
     "execution_count": 28,
     "metadata": {},
     "output_type": "execute_result"
    }
   ],
   "source": [
    "df = pd.read_csv('dados/Z5_SER.csv',sep=';')\n",
    "\n",
    "#Organizando Dados\n",
    "df1 = df[['r Z']]\n",
    "df2 = df[['i Z']]\n",
    "xx = df1.to_numpy()\n",
    "yy = df2.to_numpy()\n",
    "df['|Z|'] = np.sqrt((xx**2)+(yy**2))\n",
    "\n",
    "#Analisando forma de onda:\n",
    "z1_ser = df[['acfrequency','|Z|']]\n",
    "\n",
    "#Determinando máximo\n",
    "sort_ser1 = z1_ser.sort_values(by = '|Z|',ascending=False)\n",
    "sortf_ser1 = sort_ser1.iloc[0]\n",
    "maxz_ser1 = float(sortf_ser1[['|Z|']].to_numpy())\n",
    "\n",
    "#Retirando Fr\n",
    "fr_ser5 = float(sortf_ser1[['acfrequency']].to_numpy())\n",
    "print(sortf_ser1) #Imprimindo ponto de maximo\n",
    "\n",
    "#Definindo limites de banda delta f\n",
    "control_ser1 = maxz_ser1/2\n",
    "mask_ser1 = (z1_ser['|Z|'] < control_ser1)\n",
    "zfinal_ser1 = z1_ser.loc[~mask_ser1]\n",
    "\n",
    "#Retirando delta F\n",
    "sort1_ser1 = zfinal_ser1.sort_values(by = 'acfrequency',ascending=True)\n",
    "sort2_ser1 = zfinal_ser1.sort_values(by = 'acfrequency',ascending=False)\n",
    "sortf1_ser1 = sort1_ser1.iloc[0]\n",
    "sortf2_ser1 = sort2_ser1.iloc[0]\n",
    "minz1 = float(sortf1_ser1[['acfrequency']].to_numpy())\n",
    "maxz1 = float(sortf2_ser1[['acfrequency']].to_numpy())\n",
    "\n",
    "#Determinando Q\n",
    "delta = maxz1 - minz1\n",
    "Q_ser5 = fr_ser5/delta\n",
    "Q_ser5"
   ]
  },
  {
   "cell_type": "markdown",
   "metadata": {},
   "source": [
    "**Sexta Curva** -20%"
   ]
  },
  {
   "cell_type": "code",
   "execution_count": 29,
   "metadata": {},
   "outputs": [
    {
     "name": "stdout",
     "output_type": "stream",
     "text": [
      "acfrequency    5.572080e+09\n",
      "|Z|            2.442449e+03\n",
      "Name: 2047, dtype: float64\n"
     ]
    },
    {
     "data": {
      "text/plain": [
       "43.426700958615854"
      ]
     },
     "execution_count": 29,
     "metadata": {},
     "output_type": "execute_result"
    }
   ],
   "source": [
    "df = pd.read_csv('dados/Z6_SER.csv',sep=';')\n",
    "\n",
    "#Organizando Dados\n",
    "df1 = df[['r Z']]\n",
    "df2 = df[['i Z']]\n",
    "xx = df1.to_numpy()\n",
    "yy = df2.to_numpy()\n",
    "df['|Z|'] = np.sqrt((xx**2)+(yy**2))\n",
    "\n",
    "#Analisando forma de onda:\n",
    "z1_ser = df[['acfrequency','|Z|']]\n",
    "\n",
    "#Determinando máximo\n",
    "sort_ser1 = z1_ser.sort_values(by = '|Z|',ascending=False)\n",
    "sortf_ser1 = sort_ser1.iloc[0]\n",
    "maxz_ser1 = float(sortf_ser1[['|Z|']].to_numpy())\n",
    "\n",
    "#Retirando Fr\n",
    "fr_ser6 = float(sortf_ser1[['acfrequency']].to_numpy())\n",
    "print(sortf_ser1) #Imprimindo ponto de maximo\n",
    "\n",
    "#Definindo limites de banda delta f\n",
    "control_ser1 = maxz_ser1/2\n",
    "mask_ser1 = (z1_ser['|Z|'] < control_ser1)\n",
    "zfinal_ser1 = z1_ser.loc[~mask_ser1]\n",
    "\n",
    "#Retirando delta F\n",
    "sort1_ser1 = zfinal_ser1.sort_values(by = 'acfrequency',ascending=True)\n",
    "sort2_ser1 = zfinal_ser1.sort_values(by = 'acfrequency',ascending=False)\n",
    "sortf1_ser1 = sort1_ser1.iloc[0]\n",
    "sortf2_ser1 = sort2_ser1.iloc[0]\n",
    "minz1 = float(sortf1_ser1[['acfrequency']].to_numpy())\n",
    "maxz1 = float(sortf2_ser1[['acfrequency']].to_numpy())\n",
    "\n",
    "#Determinando Q\n",
    "delta = maxz1 - minz1\n",
    "Q_ser6 = fr_ser6/delta\n",
    "Q_ser6"
   ]
  },
  {
   "cell_type": "markdown",
   "metadata": {},
   "source": [
    "**Sétima Curva** -40%"
   ]
  },
  {
   "cell_type": "code",
   "execution_count": 34,
   "metadata": {},
   "outputs": [
    {
     "name": "stdout",
     "output_type": "stream",
     "text": [
      "acfrequency    6.427150e+09\n",
      "|Z|            3.252617e+03\n",
      "Name: 2109, dtype: float64\n"
     ]
    },
    {
     "data": {
      "text/plain": [
       "54.28794661711293"
      ]
     },
     "execution_count": 34,
     "metadata": {},
     "output_type": "execute_result"
    }
   ],
   "source": [
    "df = pd.read_csv('dados/Z7_SER.csv',sep=';')\n",
    "\n",
    "#Organizando Dados\n",
    "df1 = df[['r Z']]\n",
    "df2 = df[['i Z']]\n",
    "xx = df1.to_numpy()\n",
    "yy = df2.to_numpy()\n",
    "df['|Z|'] = np.sqrt((xx**2)+(yy**2))\n",
    "\n",
    "#Analisando forma de onda:\n",
    "z1_ser = df[['acfrequency','|Z|']]\n",
    "\n",
    "#Determinando máximo\n",
    "sort_ser1 = z1_ser.sort_values(by = '|Z|',ascending=False)\n",
    "sortf_ser1 = sort_ser1.iloc[0]\n",
    "maxz_ser1 = float(sortf_ser1[['|Z|']].to_numpy())\n",
    "\n",
    "#Retirando Fr\n",
    "fr_ser7 = float(sortf_ser1[['acfrequency']].to_numpy())\n",
    "print(sortf_ser1) #Imprimindo ponto de maximo\n",
    "\n",
    "#Definindo limites de banda delta f\n",
    "control_ser1 = maxz_ser1/2\n",
    "mask_ser1 = (z1_ser['|Z|'] < control_ser1)\n",
    "zfinal_ser1 = z1_ser.loc[~mask_ser1]\n",
    "\n",
    "#Retirando delta F\n",
    "sort1_ser1 = zfinal_ser1.sort_values(by = 'acfrequency',ascending=True)\n",
    "sort2_ser1 = zfinal_ser1.sort_values(by = 'acfrequency',ascending=False)\n",
    "sortf1_ser1 = sort1_ser1.iloc[0]\n",
    "sortf2_ser1 = sort2_ser1.iloc[0]\n",
    "minz1 = float(sortf1_ser1[['acfrequency']].to_numpy())\n",
    "maxz1 = float(sortf2_ser1[['acfrequency']].to_numpy())\n",
    "\n",
    "#Determinando Q\n",
    "delta = maxz1 - minz1\n",
    "Q_ser7 = fr_ser7/delta\n",
    "Q_ser7"
   ]
  },
  {
   "cell_type": "markdown",
   "metadata": {},
   "source": [
    "### Gráfico Fator Qualidade Modelo SER"
   ]
  },
  {
   "cell_type": "code",
   "execution_count": 35,
   "metadata": {},
   "outputs": [
    {
     "data": {
      "text/plain": [
       "Text(0.5, 1.0, 'Fator de Qualidade no Modelo SER')"
      ]
     },
     "execution_count": 35,
     "metadata": {},
     "output_type": "execute_result"
    },
    {
     "data": {
      "image/png": "[encoded data removed]",
      "text/plain": [
       "<Figure size 432x288 with 1 Axes>"
      ]
     },
     "metadata": {
      "needs_background": "light"
     },
     "output_type": "display_data"
    }
   ],
   "source": [
    "Qs = [Q_ser5, Q_ser4, Q_ser3, Q_ser2, Q_ser1, Q_ser6, Q_ser7]\n",
    "freqs = [fr_ser5, fr_ser4, fr_ser3, fr_ser2, fr_ser1, fr_ser6, fr_ser7]\n",
    "\n",
    "fig = plt.figure()\n",
    "ax = fig.add_subplot(1, 1, 1)\n",
    "ax.grid(True)\n",
    "ax.plot(freqs,Qs)\n",
    "ax.set_xlabel('Frequência')\n",
    "ax.set_ylabel('Q')\n",
    "ax.set_title('Fator de Qualidade no Modelo SER')"
   ]
  },
  {
   "cell_type": "markdown",
   "metadata": {},
   "source": [
    "## Modelo SNT"
   ]
  },
  {
   "cell_type": "markdown",
   "metadata": {},
   "source": [
    "Importação da primeira curva"
   ]
  },
  {
   "cell_type": "code",
   "execution_count": 2,
   "metadata": {},
   "outputs": [
    {
     "data": {
      "text/html": [
       "<div>\n",
       "<style scoped>\n",
       "    .dataframe tbody tr th:only-of-type {\n",
       "        vertical-align: middle;\n",
       "    }\n",
       "\n",
       "    .dataframe tbody tr th {\n",
       "        vertical-align: top;\n",
       "    }\n",
       "\n",
       "    .dataframe thead th {\n",
       "        text-align: right;\n",
       "    }\n",
       "</style>\n",
       "<table border=\"1\" class=\"dataframe\">\n",
       "  <thead>\n",
       "    <tr style=\"text-align: right;\">\n",
       "      <th></th>\n",
       "      <th>acfrequency</th>\n",
       "      <th>|Z|</th>\n",
       "    </tr>\n",
       "  </thead>\n",
       "  <tbody>\n",
       "    <tr>\n",
       "      <th>0</th>\n",
       "      <td>50000000.0</td>\n",
       "      <td>2.842668</td>\n",
       "    </tr>\n",
       "    <tr>\n",
       "      <th>1</th>\n",
       "      <td>50115300.0</td>\n",
       "      <td>2.845244</td>\n",
       "    </tr>\n",
       "    <tr>\n",
       "      <th>2</th>\n",
       "      <td>50230800.0</td>\n",
       "      <td>2.847837</td>\n",
       "    </tr>\n",
       "    <tr>\n",
       "      <th>3</th>\n",
       "      <td>50346600.0</td>\n",
       "      <td>2.850426</td>\n",
       "    </tr>\n",
       "    <tr>\n",
       "      <th>4</th>\n",
       "      <td>50462700.0</td>\n",
       "      <td>2.853039</td>\n",
       "    </tr>\n",
       "  </tbody>\n",
       "</table>\n",
       "</div>"
      ],
      "text/plain": [
       "   acfrequency       |Z|\n",
       "0   50000000.0  2.842668\n",
       "1   50115300.0  2.845244\n",
       "2   50230800.0  2.847837\n",
       "3   50346600.0  2.850426\n",
       "4   50462700.0  2.853039"
      ]
     },
     "execution_count": 2,
     "metadata": {},
     "output_type": "execute_result"
    }
   ],
   "source": [
    "df_snl = pd.read_csv('dados/Z1_SNL.csv',sep=';')\n",
    "#Organizando Dados\n",
    "df1_snl = df_snl[['r Z']]\n",
    "df2_snl = df_snl[['i Z']]\n",
    "xx = df1_snl.to_numpy()\n",
    "yy = df2_snl.to_numpy()\n",
    "df_snl['|Z|'] = np.sqrt((xx**2)+(yy**2))\n",
    "#Analisando forma de onda:\n",
    "z1_snl = df_snl[['acfrequency','|Z|']]\n",
    "#Visualização da organização de dados\n",
    "z1_snl.head()\n"
   ]
  },
  {
   "cell_type": "code",
   "execution_count": 3,
   "metadata": {},
   "outputs": [
    {
     "data": {
      "text/plain": [
       "Text(0.5, 1.0, 'Impedância no Modelo SNL')"
      ]
     },
     "execution_count": 3,
     "metadata": {},
     "output_type": "execute_result"
    },
    {
     "data": {
      "image/png": "[encoded data removed]",
      "text/plain": [
       "<Figure size 432x288 with 1 Axes>"
      ]
     },
     "metadata": {
      "needs_background": "light"
     },
     "output_type": "display_data"
    }
   ],
   "source": [
    "dfx_snl1 = z1_snl[['acfrequency']]\n",
    "dfy_snl1 = z1_snl[['|Z|']]\n",
    "freq_snl1 = dfx_snl1.to_numpy()\n",
    "Z_snl1 = dfy_snl1.to_numpy()\n",
    "\n",
    "fig = plt.figure()\n",
    "ax = fig.add_subplot(1, 1, 1)\n",
    "ax.grid(True)\n",
    "ax.plot(freq_snl1,Z_snl1)\n",
    "ax.set_xlabel('Frequência')\n",
    "ax.set_ylabel('|Z|')\n",
    "ax.set_title('Impedância no Modelo SNL')"
   ]
  },
  {
   "cell_type": "code",
   "execution_count": 4,
   "metadata": {},
   "outputs": [
    {
     "name": "stdout",
     "output_type": "stream",
     "text": [
      "acfrequency    5.058440e+09\n",
      "|Z|            2.220760e+02\n",
      "Name: 2005, dtype: float64\n",
      "9727980000.0\n",
      "2630330000.0\n"
     ]
    },
    {
     "data": {
      "text/html": [
       "<div>\n",
       "<style scoped>\n",
       "    .dataframe tbody tr th:only-of-type {\n",
       "        vertical-align: middle;\n",
       "    }\n",
       "\n",
       "    .dataframe tbody tr th {\n",
       "        vertical-align: top;\n",
       "    }\n",
       "\n",
       "    .dataframe thead th {\n",
       "        text-align: right;\n",
       "    }\n",
       "</style>\n",
       "<table border=\"1\" class=\"dataframe\">\n",
       "  <thead>\n",
       "    <tr style=\"text-align: right;\">\n",
       "      <th></th>\n",
       "      <th>acfrequency</th>\n",
       "      <th>|Z|</th>\n",
       "    </tr>\n",
       "  </thead>\n",
       "  <tbody>\n",
       "    <tr>\n",
       "      <th>1721</th>\n",
       "      <td>2.630330e+09</td>\n",
       "      <td>111.270761</td>\n",
       "    </tr>\n",
       "    <tr>\n",
       "      <th>1722</th>\n",
       "      <td>2.636390e+09</td>\n",
       "      <td>111.605420</td>\n",
       "    </tr>\n",
       "    <tr>\n",
       "      <th>1723</th>\n",
       "      <td>2.642470e+09</td>\n",
       "      <td>111.941359</td>\n",
       "    </tr>\n",
       "    <tr>\n",
       "      <th>1724</th>\n",
       "      <td>2.648560e+09</td>\n",
       "      <td>112.278501</td>\n",
       "    </tr>\n",
       "    <tr>\n",
       "      <th>1725</th>\n",
       "      <td>2.654670e+09</td>\n",
       "      <td>112.616872</td>\n",
       "    </tr>\n",
       "    <tr>\n",
       "      <th>...</th>\n",
       "      <td>...</td>\n",
       "      <td>...</td>\n",
       "    </tr>\n",
       "    <tr>\n",
       "      <th>2285</th>\n",
       "      <td>9.638790e+09</td>\n",
       "      <td>112.583152</td>\n",
       "    </tr>\n",
       "    <tr>\n",
       "      <th>2286</th>\n",
       "      <td>9.661010e+09</td>\n",
       "      <td>112.244884</td>\n",
       "    </tr>\n",
       "    <tr>\n",
       "      <th>2287</th>\n",
       "      <td>9.683290e+09</td>\n",
       "      <td>111.907878</td>\n",
       "    </tr>\n",
       "    <tr>\n",
       "      <th>2288</th>\n",
       "      <td>9.705610e+09</td>\n",
       "      <td>111.572073</td>\n",
       "    </tr>\n",
       "    <tr>\n",
       "      <th>2289</th>\n",
       "      <td>9.727980e+09</td>\n",
       "      <td>111.237464</td>\n",
       "    </tr>\n",
       "  </tbody>\n",
       "</table>\n",
       "<p>569 rows × 2 columns</p>\n",
       "</div>"
      ],
      "text/plain": [
       "       acfrequency         |Z|\n",
       "1721  2.630330e+09  111.270761\n",
       "1722  2.636390e+09  111.605420\n",
       "1723  2.642470e+09  111.941359\n",
       "1724  2.648560e+09  112.278501\n",
       "1725  2.654670e+09  112.616872\n",
       "...            ...         ...\n",
       "2285  9.638790e+09  112.583152\n",
       "2286  9.661010e+09  112.244884\n",
       "2287  9.683290e+09  111.907878\n",
       "2288  9.705610e+09  111.572073\n",
       "2289  9.727980e+09  111.237464\n",
       "\n",
       "[569 rows x 2 columns]"
      ]
     },
     "execution_count": 4,
     "metadata": {},
     "output_type": "execute_result"
    }
   ],
   "source": [
    "#Determinando máximo\n",
    "sort_snl1 = z1_snl.sort_values(by = '|Z|',ascending=False)\n",
    "sortf_snl1 = sort_snl1.iloc[0]\n",
    "maxz_snl1 = float(sortf_snl1[['|Z|']].to_numpy())\n",
    "\n",
    "#Retirando Fr\n",
    "fr_snt1 = float(sortf_snl1[['acfrequency']].to_numpy())\n",
    "print(sortf_snl1) #Imprimindo ponto de maximo\n",
    "\n",
    "#Definindo limites de banda delta f\n",
    "control_snl1 = maxz_snl1/2\n",
    "mask_snl1 = (z1_snl['|Z|'] < control_snl1)\n",
    "zfinal_snl1 = z1_snl.loc[~mask_snl1]\n",
    "\n",
    "#Retirando delta F\n",
    "sort1_snl1 = zfinal_snl1.sort_values(by = 'acfrequency',ascending=True)\n",
    "sort2_snl1 = zfinal_snl1.sort_values(by = 'acfrequency',ascending=False)\n",
    "sortf1_snl1 = sort1_snl1.iloc[0]\n",
    "sortf2_snl1 = sort2_snl1.iloc[0]\n",
    "minz1_snl1 = float(sortf1_snl1[['acfrequency']].to_numpy())\n",
    "maxz1_snl1 = float(sortf2_snl1[['acfrequency']].to_numpy())\n",
    "zfinal_snl1"
   ]
  },
  {
   "cell_type": "code",
   "execution_count": 7,
   "metadata": {},
   "outputs": [
    {
     "data": {
      "text/plain": [
       "0.7126922291180884"
      ]
     },
     "execution_count": 7,
     "metadata": {},
     "output_type": "execute_result"
    }
   ],
   "source": [
    "delta = maxz1_snl1 - minz1_snl1\n",
    "Q_snt1 = fr_snt1/delta\n",
    "Q_snt1"
   ]
  },
  {
   "cell_type": "markdown",
   "metadata": {},
   "source": [
    "**Segunda Curva** +20%"
   ]
  },
  {
   "cell_type": "code",
   "execution_count": 74,
   "metadata": {},
   "outputs": [
    {
     "name": "stdout",
     "output_type": "stream",
     "text": [
      "acfrequency    4.613340e+09\n",
      "|Z|            2.220755e+02\n",
      "Name: 1965, dtype: float64\n"
     ]
    },
    {
     "data": {
      "text/plain": [
       "1.3534015900489922"
      ]
     },
     "execution_count": 74,
     "metadata": {},
     "output_type": "execute_result"
    }
   ],
   "source": [
    "df_snl = pd.read_csv('dados/Z2_SNT.csv',sep=';')\n",
    "#Organizando Dados\n",
    "df1_snl = df_snl[['r Z']]\n",
    "df2_snl = df_snl[['i Z']]\n",
    "xx = df1_snl.to_numpy()\n",
    "yy = df2_snl.to_numpy()\n",
    "df_snl['|Z|'] = np.sqrt((xx**2)+(yy**2))\n",
    "#Analisando forma de onda:\n",
    "z1_snl = df_snl[['acfrequency','|Z|']]\n",
    "\n",
    "#Determinando máximo\n",
    "sort_snl1 = z1_snl.sort_values(by = '|Z|',ascending=False)\n",
    "sortf_snl1 = sort_snl1.iloc[0]\n",
    "maxz_snl1 = float(sortf_snl1[['|Z|']].to_numpy())\n",
    "\n",
    "#Retirando Fr\n",
    "fr_snt2 = float(sortf_snl1[['acfrequency']].to_numpy())\n",
    "print(sortf_snl1) #Imprimindo ponto de maximo\n",
    "\n",
    "#Definindo limites de banda delta f\n",
    "control_snl1 = maxz_snl1*0.707\n",
    "mask_snl1 = (z1_snl['|Z|'] < control_snl1)\n",
    "zfinal_snl1 = z1_snl.loc[~mask_snl1]\n",
    "\n",
    "#Retirando delta F\n",
    "sort1_snl1 = zfinal_snl1.sort_values(by = 'acfrequency',ascending=True)\n",
    "sort2_snl1 = zfinal_snl1.sort_values(by = 'acfrequency',ascending=False)\n",
    "sortf1_snl1 = sort1_snl1.iloc[0]\n",
    "sortf2_snl1 = sort2_snl1.iloc[0]\n",
    "minz1_snl1 = float(sortf1_snl1[['acfrequency']].to_numpy())\n",
    "maxz1_snl1 = float(sortf2_snl1[['acfrequency']].to_numpy())\n",
    "\n",
    "#Determinando Q\n",
    "delta = maxz1_snl1 - minz1_snl1\n",
    "Q_snt2 = fr_snt2/delta\n",
    "Q_snt2"
   ]
  },
  {
   "cell_type": "markdown",
   "metadata": {},
   "source": [
    "**Terceira Curva** +40% "
   ]
  },
  {
   "cell_type": "code",
   "execution_count": 75,
   "metadata": {},
   "outputs": [
    {
     "name": "stdout",
     "output_type": "stream",
     "text": [
      "acfrequency    4.275770e+09\n",
      "|Z|            2.220761e+02\n",
      "Name: 1932, dtype: float64\n"
     ]
    },
    {
     "data": {
      "text/plain": [
       "1.4596259933910478"
      ]
     },
     "execution_count": 75,
     "metadata": {},
     "output_type": "execute_result"
    }
   ],
   "source": [
    "df_snl = pd.read_csv('dados/Z3_SNT.csv',sep=';')\n",
    "#Organizando Dados\n",
    "df1_snl = df_snl[['r Z']]\n",
    "df2_snl = df_snl[['i Z']]\n",
    "xx = df1_snl.to_numpy()\n",
    "yy = df2_snl.to_numpy()\n",
    "df_snl['|Z|'] = np.sqrt((xx**2)+(yy**2))\n",
    "#Analisando forma de onda:\n",
    "z1_snl = df_snl[['acfrequency','|Z|']]\n",
    "\n",
    "#Determinando máximo\n",
    "sort_snl1 = z1_snl.sort_values(by = '|Z|',ascending=False)\n",
    "sortf_snl1 = sort_snl1.iloc[0]\n",
    "maxz_snl1 = float(sortf_snl1[['|Z|']].to_numpy())\n",
    "\n",
    "#Retirando Fr\n",
    "fr_snt3 = float(sortf_snl1[['acfrequency']].to_numpy())\n",
    "print(sortf_snl1) #Imprimindo ponto de maximo\n",
    "\n",
    "#Definindo limites de banda delta f\n",
    "control_snl1 = maxz_snl1*0.707\n",
    "mask_snl1 = (z1_snl['|Z|'] < control_snl1)\n",
    "zfinal_snl1 = z1_snl.loc[~mask_snl1]\n",
    "\n",
    "#Retirando delta F\n",
    "sort1_snl1 = zfinal_snl1.sort_values(by = 'acfrequency',ascending=True)\n",
    "sort2_snl1 = zfinal_snl1.sort_values(by = 'acfrequency',ascending=False)\n",
    "sortf1_snl1 = sort1_snl1.iloc[0]\n",
    "sortf2_snl1 = sort2_snl1.iloc[0]\n",
    "minz1_snl1 = float(sortf1_snl1[['acfrequency']].to_numpy())\n",
    "maxz1_snl1 = float(sortf2_snl1[['acfrequency']].to_numpy())\n",
    "\n",
    "#Determinando Q\n",
    "delta = maxz1_snl1 - minz1_snl1\n",
    "Q_snt3 = fr_snt3/delta\n",
    "Q_snt3"
   ]
  },
  {
   "cell_type": "markdown",
   "metadata": {},
   "source": [
    "**Quarta Curva** +80%"
   ]
  },
  {
   "cell_type": "code",
   "execution_count": 76,
   "metadata": {},
   "outputs": [
    {
     "name": "stdout",
     "output_type": "stream",
     "text": [
      "acfrequency    3.767150e+09\n",
      "|Z|            2.220756e+02\n",
      "Name: 1877, dtype: float64\n"
     ]
    },
    {
     "data": {
      "text/plain": [
       "1.6587701723872217"
      ]
     },
     "execution_count": 76,
     "metadata": {},
     "output_type": "execute_result"
    }
   ],
   "source": [
    "df_snl = pd.read_csv('dados/Z4_SNT.csv',sep=';')\n",
    "#Organizando Dados\n",
    "df1_snl = df_snl[['r Z']]\n",
    "df2_snl = df_snl[['i Z']]\n",
    "xx = df1_snl.to_numpy()\n",
    "yy = df2_snl.to_numpy()\n",
    "df_snl['|Z|'] = np.sqrt((xx**2)+(yy**2))\n",
    "#Analisando forma de onda:\n",
    "z1_snl = df_snl[['acfrequency','|Z|']]\n",
    "\n",
    "#Determinando máximo\n",
    "sort_snl1 = z1_snl.sort_values(by = '|Z|',ascending=False)\n",
    "sortf_snl1 = sort_snl1.iloc[0]\n",
    "maxz_snl1 = float(sortf_snl1[['|Z|']].to_numpy())\n",
    "\n",
    "#Retirando Fr\n",
    "fr_snt4 = float(sortf_snl1[['acfrequency']].to_numpy())\n",
    "print(sortf_snl1) #Imprimindo ponto de maximo\n",
    "\n",
    "#Definindo limites de banda delta f\n",
    "control_snl1 = maxz_snl1*0.707\n",
    "mask_snl1 = (z1_snl['|Z|'] < control_snl1)\n",
    "zfinal_snl1 = z1_snl.loc[~mask_snl1]\n",
    "\n",
    "#Retirando delta F\n",
    "sort1_snl1 = zfinal_snl1.sort_values(by = 'acfrequency',ascending=True)\n",
    "sort2_snl1 = zfinal_snl1.sort_values(by = 'acfrequency',ascending=False)\n",
    "sortf1_snl1 = sort1_snl1.iloc[0]\n",
    "sortf2_snl1 = sort2_snl1.iloc[0]\n",
    "minz1_snl1 = float(sortf1_snl1[['acfrequency']].to_numpy())\n",
    "maxz1_snl1 = float(sortf2_snl1[['acfrequency']].to_numpy())\n",
    "\n",
    "#Determinando Q\n",
    "delta = maxz1_snl1 - minz1_snl1\n",
    "Q_snt4 = fr_snt4/delta\n",
    "Q_snt4"
   ]
  },
  {
   "cell_type": "markdown",
   "metadata": {},
   "source": [
    "**Quinta Curva** +120% "
   ]
  },
  {
   "cell_type": "code",
   "execution_count": 77,
   "metadata": {},
   "outputs": [
    {
     "name": "stdout",
     "output_type": "stream",
     "text": [
      "acfrequency    3.412030e+09\n",
      "|Z|            2.220755e+02\n",
      "Name: 1834, dtype: float64\n"
     ]
    },
    {
     "data": {
      "text/plain": [
       "1.833655778759445"
      ]
     },
     "execution_count": 77,
     "metadata": {},
     "output_type": "execute_result"
    }
   ],
   "source": [
    "df_snl = pd.read_csv('dados/Z5_SNT.csv',sep=';')\n",
    "#Organizando Dados\n",
    "df1_snl = df_snl[['r Z']]\n",
    "df2_snl = df_snl[['i Z']]\n",
    "xx = df1_snl.to_numpy()\n",
    "yy = df2_snl.to_numpy()\n",
    "df_snl['|Z|'] = np.sqrt((xx**2)+(yy**2))\n",
    "#Analisando forma de onda:\n",
    "z1_snl = df_snl[['acfrequency','|Z|']]\n",
    "\n",
    "#Determinando máximo\n",
    "sort_snl1 = z1_snl.sort_values(by = '|Z|',ascending=False)\n",
    "sortf_snl1 = sort_snl1.iloc[0]\n",
    "maxz_snl1 = float(sortf_snl1[['|Z|']].to_numpy())\n",
    "\n",
    "#Retirando Fr\n",
    "fr_snt5 = float(sortf_snl1[['acfrequency']].to_numpy())\n",
    "print(sortf_snl1) #Imprimindo ponto de maximo\n",
    "\n",
    "#Definindo limites de banda delta f\n",
    "control_snl1 = maxz_snl1*0.707\n",
    "mask_snl1 = (z1_snl['|Z|'] < control_snl1)\n",
    "zfinal_snl1 = z1_snl.loc[~mask_snl1]\n",
    "\n",
    "#Retirando delta F\n",
    "sort1_snl1 = zfinal_snl1.sort_values(by = 'acfrequency',ascending=True)\n",
    "sort2_snl1 = zfinal_snl1.sort_values(by = 'acfrequency',ascending=False)\n",
    "sortf1_snl1 = sort1_snl1.iloc[0]\n",
    "sortf2_snl1 = sort2_snl1.iloc[0]\n",
    "minz1_snl1 = float(sortf1_snl1[['acfrequency']].to_numpy())\n",
    "maxz1_snl1 = float(sortf2_snl1[['acfrequency']].to_numpy())\n",
    "\n",
    "#Determinando Q\n",
    "delta = maxz1_snl1 - minz1_snl1\n",
    "Q_snt5 = fr_snt5/delta\n",
    "Q_snt5"
   ]
  },
  {
   "cell_type": "markdown",
   "metadata": {},
   "source": [
    "**Sexta Curva** -20%"
   ]
  },
  {
   "cell_type": "code",
   "execution_count": 78,
   "metadata": {},
   "outputs": [
    {
     "name": "stdout",
     "output_type": "stream",
     "text": [
      "acfrequency    5.649600e+09\n",
      "|Z|            2.220755e+02\n",
      "Name: 2053, dtype: float64\n"
     ]
    },
    {
     "data": {
      "text/plain": [
       "1.1028343874443665"
      ]
     },
     "execution_count": 78,
     "metadata": {},
     "output_type": "execute_result"
    }
   ],
   "source": [
    "df_snl = pd.read_csv('dados/Z6_SNT.csv',sep=';')\n",
    "#Organizando Dados\n",
    "df1_snl = df_snl[['r Z']]\n",
    "df2_snl = df_snl[['i Z']]\n",
    "xx = df1_snl.to_numpy()\n",
    "yy = df2_snl.to_numpy()\n",
    "df_snl['|Z|'] = np.sqrt((xx**2)+(yy**2))\n",
    "#Analisando forma de onda:\n",
    "z1_snl = df_snl[['acfrequency','|Z|']]\n",
    "\n",
    "#Determinando máximo\n",
    "sort_snl1 = z1_snl.sort_values(by = '|Z|',ascending=False)\n",
    "sortf_snl1 = sort_snl1.iloc[0]\n",
    "maxz_snl1 = float(sortf_snl1[['|Z|']].to_numpy())\n",
    "\n",
    "#Retirando Fr\n",
    "fr_snt6 = float(sortf_snl1[['acfrequency']].to_numpy())\n",
    "print(sortf_snl1) #Imprimindo ponto de maximo\n",
    "\n",
    "#Definindo limites de banda delta f\n",
    "control_snl1 = maxz_snl1*0.707\n",
    "mask_snl1 = (z1_snl['|Z|'] < control_snl1)\n",
    "zfinal_snl1 = z1_snl.loc[~mask_snl1]\n",
    "\n",
    "#Retirando delta F\n",
    "sort1_snl1 = zfinal_snl1.sort_values(by = 'acfrequency',ascending=True)\n",
    "sort2_snl1 = zfinal_snl1.sort_values(by = 'acfrequency',ascending=False)\n",
    "sortf1_snl1 = sort1_snl1.iloc[0]\n",
    "sortf2_snl1 = sort2_snl1.iloc[0]\n",
    "minz1_snl1 = float(sortf1_snl1[['acfrequency']].to_numpy())\n",
    "maxz1_snl1 = float(sortf2_snl1[['acfrequency']].to_numpy())\n",
    "\n",
    "#Determinando Q\n",
    "delta = maxz1_snl1 - minz1_snl1\n",
    "Q_snt6 = fr_snt6/delta\n",
    "Q_snt6"
   ]
  },
  {
   "cell_type": "markdown",
   "metadata": {},
   "source": [
    "**Sétima Curva** -40%"
   ]
  },
  {
   "cell_type": "code",
   "execution_count": 79,
   "metadata": {
    "scrolled": true
   },
   "outputs": [
    {
     "name": "stdout",
     "output_type": "stream",
     "text": [
      "acfrequency    6.531590e+09\n",
      "|Z|            2.220760e+02\n",
      "Name: 2116, dtype: float64\n"
     ]
    },
    {
     "data": {
      "text/plain": [
       "0.9554262460303877"
      ]
     },
     "execution_count": 79,
     "metadata": {},
     "output_type": "execute_result"
    }
   ],
   "source": [
    "df_snl = pd.read_csv('dados/Z7_SNT.csv',sep=';')\n",
    "#Organizando Dados\n",
    "df1_snl = df_snl[['r Z']]\n",
    "df2_snl = df_snl[['i Z']]\n",
    "xx = df1_snl.to_numpy()\n",
    "yy = df2_snl.to_numpy()\n",
    "df_snl['|Z|'] = np.sqrt((xx**2)+(yy**2))\n",
    "#Analisando forma de onda:\n",
    "z1_snl = df_snl[['acfrequency','|Z|']]\n",
    "\n",
    "#Determinando máximo\n",
    "sort_snl1 = z1_snl.sort_values(by = '|Z|',ascending=False)\n",
    "sortf_snl1 = sort_snl1.iloc[0]\n",
    "maxz_snl1 = float(sortf_snl1[['|Z|']].to_numpy())\n",
    "\n",
    "#Retirando Fr\n",
    "fr_snt7 = float(sortf_snl1[['acfrequency']].to_numpy())\n",
    "print(sortf_snl1) #Imprimindo ponto de maximo\n",
    "\n",
    "#Definindo limites de banda delta f\n",
    "control_snl1 = maxz_snl1*0.707\n",
    "mask_snl1 = (z1_snl['|Z|'] < control_snl1)\n",
    "zfinal_snl1 = z1_snl.loc[~mask_snl1]\n",
    "\n",
    "#Retirando delta F\n",
    "sort1_snl1 = zfinal_snl1.sort_values(by = 'acfrequency',ascending=True)\n",
    "sort2_snl1 = zfinal_snl1.sort_values(by = 'acfrequency',ascending=False)\n",
    "sortf1_snl1 = sort1_snl1.iloc[0]\n",
    "sortf2_snl1 = sort2_snl1.iloc[0]\n",
    "minz1_snl1 = float(sortf1_snl1[['acfrequency']].to_numpy())\n",
    "maxz1_snl1 = float(sortf2_snl1[['acfrequency']].to_numpy())\n",
    "\n",
    "#Determinando Q\n",
    "delta = maxz1_snl1 - minz1_snl1\n",
    "Q_snt7 = fr_snt7/delta\n",
    "Q_snt7"
   ]
  },
  {
   "cell_type": "markdown",
   "metadata": {},
   "source": [
    "### Gráfico Fator Qualidade Modelo SNT"
   ]
  },
  {
   "cell_type": "code",
   "execution_count": 80,
   "metadata": {},
   "outputs": [
    {
     "data": {
      "text/plain": [
       "Text(0.5, 1.0, 'Fator de Qualidade no Modelo SNT')"
      ]
     },
     "execution_count": 80,
     "metadata": {},
     "output_type": "execute_result"
    },
    {
     "data": {
      "image/png": "[encoded data removed]",
      "text/plain": [
       "<Figure size 432x288 with 1 Axes>"
      ]
     },
     "metadata": {
      "needs_background": "light"
     },
     "output_type": "display_data"
    }
   ],
   "source": [
    "Qs = [Q_snt5, Q_snt4, Q_snt3, Q_snt2, Q_snt1, Q_snt6, Q_snt7]\n",
    "freqs = [fr_snt5, fr_snt4, fr_snt3, fr_snt2, fr_snt1, fr_snt6, fr_snt7]\n",
    "\n",
    "fig = plt.figure()\n",
    "ax = fig.add_subplot(1, 1, 1)\n",
    "ax.grid(True)\n",
    "ax.plot(freqs,Qs)\n",
    "ax.set_xlabel('Frequência')\n",
    "ax.set_ylabel('Q')\n",
    "ax.set_title('Fator de Qualidade no Modelo SNT')"
   ]
  }
 ],
 "metadata": {
  "kernelspec": {
   "display_name": "Python 3",
   "language": "python",
   "name": "python3"
  },
  "language_info": {
   "codemirror_mode": {
    "name": "ipython",
    "version": 3
   },
   "file_extension": ".py",
   "mimetype": "text/x-python",
   "name": "python",
   "nbconvert_exporter": "python",
   "pygments_lexer": "ipython3",
   "version": "3.7.6"
  }
 },
 "nbformat": 4,
 "nbformat_minor": 4
}
