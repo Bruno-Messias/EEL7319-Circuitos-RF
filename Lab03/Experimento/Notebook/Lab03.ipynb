{
 "cells": [
  {
   "cell_type": "markdown",
   "metadata": {},
   "source": [
    "# Construindo Histogramas"
   ]
  },
  {
   "cell_type": "markdown",
   "metadata": {},
   "source": [
    "Importação dos dados a serem analizados, e criação de histogramas a partir das simulações de Monte Carlo"
   ]
  },
  {
   "cell_type": "code",
   "execution_count": 2,
   "metadata": {},
   "outputs": [],
   "source": [
    "#Importando bibliotecas para análise de dados\n",
    "import numpy as np\n",
    "import pandas as pd\n",
    "import matplotlib.pyplot as plt\n",
    "%matplotlib inline"
   ]
  },
  {
   "cell_type": "markdown",
   "metadata": {},
   "source": [
    "### Potência da fonte"
   ]
  },
  {
   "cell_type": "code",
   "execution_count": 60,
   "metadata": {},
   "outputs": [],
   "source": [
    "df_ps = pd.read_csv('dados/Ps.csv',sep=';') #Guarde seus .csv numa pasta dados, mude para o nome de su arquivo aqui\n",
    "#Organizando Dados\n",
    "df1 = df_ps[['r Ps']] #Substituir pelo nome de sua variável do Qucs, o Qucs exporta em imaginário e real\n",
    "df2 = df_ps[['i Ps']] #Substiuir pelo nome de sua variável do Qucs\n",
    "xx = df1.to_numpy()\n",
    "yy = df2.to_numpy()\n",
    "df_ps['Ps'] = np.sqrt((xx**2)+(yy**2)) #Fazendo o módulo do valor\n",
    "#Analisando forma de onda:\n",
    "df_ps = df_ps[['acfrequency','Ps']]\n",
    "#Visualização da organização de dados \n",
    "#df_ps.head() #Descomente para visualizar os dados organizados"
   ]
  },
  {
   "cell_type": "code",
   "execution_count": 59,
   "metadata": {},
   "outputs": [],
   "source": [
    "limite1 = 4.5e+09 #Caso queira mudar o limites de frequência mude aqui - influencia todo o notebook\n",
    "limite2 = 5.5e+09\n",
    "mask_ps = (df_ps['acfrequency'] < limite2) & (df_ps['acfrequency'] > limite1)\n",
    "df_ps_filtro1 = df_ps.loc[mask_ps]\n",
    "#df_ps_filtro1 #Descomente para visualizar os dados filtrados no limite escolido"
   ]
  },
  {
   "cell_type": "code",
   "execution_count": 53,
   "metadata": {},
   "outputs": [
    {
     "data": {
      "image/png": "[encoded data removed]",
      "text/plain": [
       "<Figure size 432x288 with 1 Axes>"
      ]
     },
     "metadata": {
      "needs_background": "light"
     },
     "output_type": "display_data"
    }
   ],
   "source": [
    "psx = df_ps_filtro1['Ps'].to_numpy()\n",
    "\n",
    "plt.hist(psx, bins = 100)\n",
    "plt.xlabel('Potência da Fonte')\n",
    "plt.grid(True)"
   ]
  },
  {
   "cell_type": "markdown",
   "metadata": {},
   "source": [
    "### Potência na Carga"
   ]
  },
  {
   "cell_type": "code",
   "execution_count": 58,
   "metadata": {},
   "outputs": [],
   "source": [
    "df_pl = pd.read_csv('dados/Pl.csv',sep=';') #Mude para o nome de su arquivo aqui\n",
    "#Organizando Dados\n",
    "df1 = df_pl[['r Pl']] #Substituir pelo nome de sua variável do Qucs\n",
    "df2 = df_pl[['i Pl']] #Substituir pelo nome de sua variável do Qucs\n",
    "xx = df1.to_numpy()\n",
    "yy = df2.to_numpy()\n",
    "df_pl['Pl'] = np.sqrt((xx**2)+(yy**2))\n",
    "#Analisando forma de onda:\n",
    "df_pl = df_pl[['acfrequency','Pl']]\n",
    "#Visualização da organização de dados\n",
    "#df_pl.head() #Descomente para visualizar os dados organizados"
   ]
  },
  {
   "cell_type": "code",
   "execution_count": 57,
   "metadata": {},
   "outputs": [],
   "source": [
    "mask_pl = (df_pl['acfrequency'] < limite2) & (df_pl['acfrequency'] > limite1)\n",
    "df_pl_filtro1 = df_pl.loc[mask_pl]\n",
    "#df_pl_filtro1  #Descomente para visualizar os dados filtrados no limite escolido"
   ]
  },
  {
   "cell_type": "code",
   "execution_count": 56,
   "metadata": {},
   "outputs": [
    {
     "data": {
      "image/png": "[encoded data removed]",
      "text/plain": [
       "<Figure size 432x288 with 1 Axes>"
      ]
     },
     "metadata": {
      "needs_background": "light"
     },
     "output_type": "display_data"
    }
   ],
   "source": [
    "plx = df_pl_filtro1['Pl'].to_numpy()\n",
    "\n",
    "plt.hist(plx, bins = 100)\n",
    "plt.xlabel('Potência na Carga')\n",
    "plt.grid(True)"
   ]
  },
  {
   "cell_type": "markdown",
   "metadata": {},
   "source": [
    "### Eficiência"
   ]
  },
  {
   "cell_type": "code",
   "execution_count": 63,
   "metadata": {},
   "outputs": [],
   "source": [
    "df_n = pd.read_csv('dados/n.csv',sep=';') #Mude para o nome de su arquivo aqui\n",
    "#Organizando Dados\n",
    "df1 = df_n[['r n']] #Substituir pelo nome de sua variável do Qucs\n",
    "df2 = df_n[['i n']] #Substituir pelo nome de sua variável do Qucs\n",
    "xx = df1.to_numpy()\n",
    "yy = df2.to_numpy()\n",
    "df_n['n'] = np.sqrt((xx**2)+(yy**2))\n",
    "#Analisando forma de onda:\n",
    "df_n = df_n[['acfrequency','n']]\n",
    "#Visualização da organização de dados\n",
    "#df_pl.head() #Descomente para visualizar os dados organizados"
   ]
  },
  {
   "cell_type": "code",
   "execution_count": 67,
   "metadata": {},
   "outputs": [],
   "source": [
    "mask_n = (df_n['acfrequency'] < limite2) & (df_n['acfrequency'] > limite1)\n",
    "df_n_filtro1 = df_n.loc[mask_n]\n",
    "#df_n_filtro1  #Descomente para visualizar os dados filtrados no limite escolido"
   ]
  },
  {
   "cell_type": "code",
   "execution_count": 66,
   "metadata": {},
   "outputs": [
    {
     "data": {
      "image/png": "[encoded data removed]",
      "text/plain": [
       "<Figure size 432x288 with 1 Axes>"
      ]
     },
     "metadata": {
      "needs_background": "light"
     },
     "output_type": "display_data"
    }
   ],
   "source": [
    "nx = df_n_filtro1['n'].to_numpy()\n",
    "\n",
    "plt.hist(nx, bins = 100)\n",
    "plt.xlabel('Eficiência')\n",
    "plt.grid(True)"
   ]
  },
  {
   "cell_type": "markdown",
   "metadata": {},
   "source": [
    "# Questão 3"
   ]
  },
  {
   "cell_type": "markdown",
   "metadata": {},
   "source": [
    "### Pl/PS"
   ]
  },
  {
   "cell_type": "code",
   "execution_count": 13,
   "metadata": {},
   "outputs": [],
   "source": [
    "Z_x = np.linspace( 1, 100, 1000 ) + 1j*np.linspace(1,100,1000)\n",
    "Z_s = np.array([8.5 - 1j*15])\n",
    "\n",
    "Y_s = 1/Z_s\n",
    "Y_x = 1/Z_x\n",
    "\n",
    "Y_sreal = Y_s.real\n",
    "Y_xreal = Y_x.real\n",
    "Y_simag = Y_s.imag\n",
    "Y_ximag = Y_x.imag\n",
    "Z_x_abs = np.absolute(Z_x)\n",
    "\n",
    "n1 = np.absolute(Y_xreal/(Y_xreal+Y_sreal))"
   ]
  },
  {
   "cell_type": "code",
   "execution_count": 17,
   "metadata": {},
   "outputs": [
    {
     "data": {
      "text/plain": [
       "Text(0.5, 1.0, 'Eficiência Pl/Ps')"
      ]
     },
     "execution_count": 17,
     "metadata": {},
     "output_type": "execute_result"
    },
    {
     "data": {
      "image/png": "[encoded data removed]",
      "text/plain": [
       "<Figure size 432x288 with 1 Axes>"
      ]
     },
     "metadata": {
      "needs_background": "light"
     },
     "output_type": "display_data"
    }
   ],
   "source": [
    "fig = plt.figure()\n",
    "ax = fig.add_subplot(1, 1, 1)\n",
    "ax.grid(True)\n",
    "ax.plot(Z_x_abs,n1)\n",
    "ax.set_xlabel('Impedância')\n",
    "ax.set_ylabel('Eficiência')\n",
    "ax.set_title('Eficiência Pl/Ps')"
   ]
  },
  {
   "cell_type": "markdown",
   "metadata": {},
   "source": [
    "### Pl/Pavs"
   ]
  },
  {
   "cell_type": "code",
   "execution_count": 16,
   "metadata": {},
   "outputs": [],
   "source": [
    "norm = (Y_sreal+Y_xreal)**2 + (Y_simag + Y_ximag)**2\n",
    "n2 = (4*Y_sreal*Y_xreal)/norm"
   ]
  },
  {
   "cell_type": "code",
   "execution_count": 18,
   "metadata": {},
   "outputs": [
    {
     "data": {
      "text/plain": [
       "Text(0.5, 1.0, 'Eficiência Pl/Pavs')"
      ]
     },
     "execution_count": 18,
     "metadata": {},
     "output_type": "execute_result"
    },
    {
     "data": {
      "image/png": "[encoded data removed]",
      "text/plain": [
       "<Figure size 432x288 with 1 Axes>"
      ]
     },
     "metadata": {
      "needs_background": "light"
     },
     "output_type": "display_data"
    }
   ],
   "source": [
    "fig = plt.figure()\n",
    "ax = fig.add_subplot(1, 1, 1)\n",
    "ax.grid(True)\n",
    "ax.plot(Z_x_abs,n2)\n",
    "ax.set_xlabel('Impedância')\n",
    "ax.set_ylabel('Eficiência')\n",
    "ax.set_title('Eficiência Pl/Pavs')"
   ]
  }
 ],
 "metadata": {
  "kernelspec": {
   "display_name": "Python 3",
   "language": "python",
   "name": "python3"
  },
  "language_info": {
   "codemirror_mode": {
    "name": "ipython",
    "version": 3
   },
   "file_extension": ".py",
   "mimetype": "text/x-python",
   "name": "python",
   "nbconvert_exporter": "python",
   "pygments_lexer": "ipython3",
   "version": "3.7.6"
  }
 },
 "nbformat": 4,
 "nbformat_minor": 4
}
